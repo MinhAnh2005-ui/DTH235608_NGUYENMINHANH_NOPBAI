{
  "nbformat": 4,
  "nbformat_minor": 0,
  "metadata": {
    "colab": {
      "provenance": [],
      "authorship_tag": "ABX9TyNMhvtCdIA8giDWOlvt9ojM",
      "include_colab_link": true
    },
    "kernelspec": {
      "name": "python3",
      "display_name": "Python 3"
    },
    "language_info": {
      "name": "python"
    }
  },
  "cells": [
    {
      "cell_type": "markdown",
      "metadata": {
        "id": "view-in-github",
        "colab_type": "text"
      },
      "source": [
        "<a href=\"https://colab.research.google.com/github/MinhAnh2005-ui/DTH235608_NGUYENMINHANH_NOPBAI/blob/master/Chuong5_py.ipynb\" target=\"_parent\"><img src=\"https://colab.research.google.com/assets/colab-badge.svg\" alt=\"Open In Colab\"/></a>"
      ]
    },
    {
      "cell_type": "code",
      "source": [
        "#Câu 1\n",
        "def CheckDoiXung(s):\n",
        "      flag=True\n",
        "      for i in range(len(s)):\n",
        "             if s[i]!=s[len(s)-i-1]:\n",
        "                  flag=False\n",
        "                  break\n",
        "      return flag\n",
        "def main():\n",
        "      print(\"Nhập 1 chuỗi:\")\n",
        "      s=input()\n",
        "      if(CheckDoiXung(s)):\n",
        "             print(\"Chuỗi bạn nhập đối xứng\")\n",
        "      else:\n",
        "             print(\"Chuỗi bạn nhập không đối xứng\")\n",
        "while True:\n",
        "      main()\n",
        "      print(\"Tiếp không Thím?(c/k):\")\n",
        "      s=input()\n",
        "      if s==\"k\":\n",
        "             break\n",
        "print(\"CÁM ƠN THÍM\")"
      ],
      "metadata": {
        "colab": {
          "base_uri": "https://localhost:8080/"
        },
        "id": "lXdnpfblSdwl",
        "outputId": "50e81e93-33a7-4cb3-9746-eb3cbbd052c1"
      },
      "execution_count": 2,
      "outputs": [
        {
          "output_type": "stream",
          "name": "stdout",
          "text": [
            "Nhập 1 chuỗi:\n",
            "1\n",
            "Chuỗi bạn nhập đối xứng\n",
            "Tiếp không Thím?(c/k):\n",
            "C\n",
            "Nhập 1 chuỗi:\n",
            "3\n",
            "Chuỗi bạn nhập đối xứng\n",
            "Tiếp không Thím?(c/k):\n",
            "K\n",
            "Nhập 1 chuỗi:\n",
            "3\n",
            "Chuỗi bạn nhập đối xứng\n",
            "Tiếp không Thím?(c/k):\n",
            "K\n",
            "Nhập 1 chuỗi:\n",
            "4\n",
            "Chuỗi bạn nhập đối xứng\n",
            "Tiếp không Thím?(c/k):\n",
            "k\n",
            "CÁM ƠN THÍM\n"
          ]
        }
      ]
    },
    {
      "cell_type": "code",
      "source": [
        "#Câu 2\n",
        "def ToiUuChuoi(s):\n",
        "       s2=s\n",
        "       s2=s2.strip()\n",
        "       arr=s2.split(' ')\n",
        "       s2=\"\"\n",
        "       for x in arr:\n",
        "             word=x\n",
        "             if len(word.strip())!=0:\n",
        "                  s2=s2+word+\" \"\n",
        "       return s2.strip()\n",
        "s=\" Trần Duy Thanh \"\n",
        "print(s,\"=>\",len(s))\n",
        "s=ToiUuChuoi(s)\n",
        "print(s,\"=>\",len(s))"
      ],
      "metadata": {
        "colab": {
          "base_uri": "https://localhost:8080/"
        },
        "id": "UCUmgOxzUWJB",
        "outputId": "7e7d40c8-ccd8-4360-fa2d-081f5dc08733"
      },
      "execution_count": 3,
      "outputs": [
        {
          "output_type": "stream",
          "name": "stdout",
          "text": [
            " Trần Duy Thanh  => 16\n",
            "Trần Duy Thanh => 14\n"
          ]
        }
      ]
    },
    {
      "cell_type": "code",
      "source": [
        "#Câu 3\n",
        "def CheckPrime(x):\n",
        "    dem = 0\n",
        "    for i in range(1, x + 1):\n",
        "        if x % i == 0:\n",
        "            dem += 1\n",
        "    return dem == 2\n",
        "\n",
        "s = \"5;7;8;-2;8;11;-13;9;10\"\n",
        "arr = s.split(';')\n",
        "\n",
        "sochan = 0\n",
        "soam = 0\n",
        "sont = 0\n",
        "sum = 0\n",
        "\n",
        "for x in arr:\n",
        "    number = int(x)\n",
        "    print(x)\n",
        "    if number % 2 == 0:\n",
        "        sochan += 1\n",
        "    if number < 0:\n",
        "        soam += 1\n",
        "    if CheckPrime(number):\n",
        "        sont += 1\n",
        "    sum=sum+number\n",
        "\n",
        "print(\"Số chẵn =\", sochan)\n",
        "print(\"Số âm =\", soam)\n",
        "print(\"Số nguyên tố =\", sont)\n",
        "print(\"Trung bình =\", sum / len(arr))"
      ],
      "metadata": {
        "colab": {
          "base_uri": "https://localhost:8080/"
        },
        "id": "_9kXChS1V9Ij",
        "outputId": "fbc73a0b-722e-4710-c2ca-10d7617d0189"
      },
      "execution_count": 4,
      "outputs": [
        {
          "output_type": "stream",
          "name": "stdout",
          "text": [
            "5\n",
            "7\n",
            "8\n",
            "-2\n",
            "8\n",
            "11\n",
            "-13\n",
            "9\n",
            "10\n",
            "Số chẵn = 4\n",
            "Số âm = 2\n",
            "Số nguyên tố = 3\n",
            "Trung bình = 4.777777777777778\n"
          ]
        }
      ]
    },
    {
      "cell_type": "code",
      "source": [
        "#Câu 4\n",
        "\n",
        "s = \"  Hello Python 123 !!! \"\n",
        "print(\"Chuỗi gốc:\", repr(s))\n",
        "print(\"Viết thường:\", s.lower())\n",
        "print(\"Viết hoa:\", s.upper())\n",
        "print(\"Chỉ viết hoa chữ cái đầu:\", s.capitalize())\n",
        "print(\"Viết hoa chữ cái đầu mỗi từ:\", s.title())\n",
        "print(\"Xóa khoảng trắng 2 bên:\", s.strip())\n",
        "print(\"Tách chuỗi thành list:\", s.split())\n",
        "print(\"Nối chuỗi:\", \"-\".join([\"Python\", \"Java\", \"C++\"]))\n",
        "print(\"Thay thế ký tự:\", s.replace(\"Python\", \"World\"))\n",
        "print(\"Kiểm tra toàn số:\", \"12345\".isdigit())\n",
        "print(\"Kiểm tra toàn chữ cái:\", \"abcXYZ\".isalpha())\n",
        "print(\"Kiểm tra toàn chữ và số:\", \"abc123\".isalnum())\n",
        "print(\"Tìm vị trí 'Python':\", s.find(\"Python\"))"
      ],
      "metadata": {
        "colab": {
          "base_uri": "https://localhost:8080/"
        },
        "id": "n2FLBRufWeeJ",
        "outputId": "f9d9f290-544e-47eb-a6d2-bc1206eedc53"
      },
      "execution_count": 5,
      "outputs": [
        {
          "output_type": "stream",
          "name": "stdout",
          "text": [
            "Chuỗi gốc: '  Hello Python 123 !!! '\n",
            "Viết thường:   hello python 123 !!! \n",
            "Viết hoa:   HELLO PYTHON 123 !!! \n",
            "Chỉ viết hoa chữ cái đầu:   hello python 123 !!! \n",
            "Viết hoa chữ cái đầu mỗi từ:   Hello Python 123 !!! \n",
            "Xóa khoảng trắng 2 bên: Hello Python 123 !!!\n",
            "Tách chuỗi thành list: ['Hello', 'Python', '123', '!!!']\n",
            "Nối chuỗi: Python-Java-C++\n",
            "Thay thế ký tự:   Hello World 123 !!! \n",
            "Kiểm tra toàn số: True\n",
            "Kiểm tra toàn chữ cái: True\n",
            "Kiểm tra toàn chữ và số: True\n",
            "Tìm vị trí 'Python': 8\n"
          ]
        }
      ]
    },
    {
      "cell_type": "code",
      "source": [
        "#Câu 5\n",
        "chuoi = input(\"Nhập vào một chuỗi: \")\n",
        "\n",
        "nguyen_am = \"aeiouAEIOU\"\n",
        "so_in_hoa = so_in_thuong = so_chu_so = so_ky_tu_db = so_khoang_trang = so_nguyen_am = so_phu_am = 0\n",
        "\n",
        "for ch in chuoi:\n",
        "    if ch.isupper():\n",
        "        so_in_hoa += 1\n",
        "    if ch.islower():\n",
        "        so_in_thuong += 1\n",
        "    if ch.isdigit():\n",
        "        so_chu_so += 1\n",
        "    if not ch.isalnum() and not ch.isspace():\n",
        "        so_ky_tu_db += 1\n",
        "    if ch.isspace():\n",
        "        so_khoang_trang += 1\n",
        "    if ch.isalpha():\n",
        "        if ch in nguyen_am:\n",
        "            so_nguyen_am += 1\n",
        "        else:\n",
        "            so_phu_am += 1\n",
        "\n",
        "print(\"Số chữ IN HOA:\", so_in_hoa)\n",
        "print(\"Số chữ thường:\", so_in_thuong)\n",
        "print(\"Số chữ số:\", so_chu_so)\n",
        "print(\"Số ký tự đặc biệt:\", so_ky_tu_db)\n",
        "print(\"Số khoảng trắng:\", so_khoang_trang)\n",
        "print(\"Số nguyên âm:\", so_nguyen_am)\n",
        "print(\"Số phụ âm:\", so_phu_am)"
      ],
      "metadata": {
        "colab": {
          "base_uri": "https://localhost:8080/"
        },
        "id": "4m88V2GtXEbI",
        "outputId": "88bad51b-bdcb-4120-8b39-b05adc618f0e"
      },
      "execution_count": 9,
      "outputs": [
        {
          "output_type": "stream",
          "name": "stdout",
          "text": [
            "Nhập vào một chuỗi: 7\n",
            "Số chữ IN HOA: 0\n",
            "Số chữ thường: 0\n",
            "Số chữ số: 1\n",
            "Số ký tự đặc biệt: 0\n",
            "Số khoảng trắng: 0\n",
            "Số nguyên âm: 0\n",
            "Số phụ âm: 0\n"
          ]
        }
      ]
    },
    {
      "cell_type": "code",
      "source": [
        "#Câu 6\n",
        "import re\n",
        "\n",
        "def NegativeNumberInStrings(s):\n",
        "    # Dùng regex tìm tất cả số âm\n",
        "    numbers = re.findall(r\"-\\d+\", s)\n",
        "    return [int(num) for num in numbers]\n",
        "\n",
        "# Test\n",
        "chuoi = \"abc-5xyz-12k9l--p\"\n",
        "print(\"Chuỗi:\", chuoi)\n",
        "print(\"Các số nguyên âm trong chuỗi:\", NegativeNumberInStrings(chuoi))"
      ],
      "metadata": {
        "colab": {
          "base_uri": "https://localhost:8080/"
        },
        "id": "GqQRXaHSXfZe",
        "outputId": "ab734e5a-4594-47be-88d3-a10c918bc41d"
      },
      "execution_count": 10,
      "outputs": [
        {
          "output_type": "stream",
          "name": "stdout",
          "text": [
            "Chuỗi: abc-5xyz-12k9l--p\n",
            "Các số nguyên âm trong chuỗi: [-5, -12]\n"
          ]
        }
      ]
    },
    {
      "cell_type": "code",
      "source": [
        "#Câu 7\n",
        "\n",
        "def ToiUuDanhTu(chuoi):\n",
        "    # Xóa khoảng trắng 2 đầu và tách từ\n",
        "    tu = chuoi.strip().split()\n",
        "    # Viết hoa chữ cái đầu mỗi từ + ghép lại bằng 1 khoảng trắng\n",
        "    tu = [word.capitalize() for word in tu]\n",
        "    return \" \".join(tu)\n",
        "\n",
        "# Test\n",
        "s = \"   Trần    duY    thAnH   \"\n",
        "print(\"Chuỗi gốc:\", repr(s))\n",
        "print(\"Chuỗi tối ưu:\", ToiUuDanhTu(s))"
      ],
      "metadata": {
        "colab": {
          "base_uri": "https://localhost:8080/"
        },
        "id": "pg_y5CrPXsBi",
        "outputId": "c357e503-5bbc-4d71-bde3-54c472a44526"
      },
      "execution_count": 11,
      "outputs": [
        {
          "output_type": "stream",
          "name": "stdout",
          "text": [
            "Chuỗi gốc: '   Trần    duY    thAnH   '\n",
            "Chuỗi tối ưu: Trần Duy Thanh\n"
          ]
        }
      ]
    },
    {
      "cell_type": "code",
      "source": [
        "#Câu 8\n",
        "import os\n",
        "\n",
        "def TachTenBaiHat(duongdan):\n",
        "    # Lấy tên file từ đường dẫn\n",
        "    ten_file = os.path.basename(duongdan)\n",
        "    # Lấy tên không có đuôi mở rộng\n",
        "    ten_bai_hat = os.path.splitext(ten_file)[0]\n",
        "    return ten_file, ten_bai_hat\n",
        "\n",
        "# Test\n",
        "path = r\"d:\\music\\muabui.mp3\"\n",
        "file_name, song_name = TachTenBaiHat(path)\n",
        "\n",
        "print(\"Tên file:\", file_name)\n",
        "print(\"Tên bài hát:\", song_name)"
      ],
      "metadata": {
        "colab": {
          "base_uri": "https://localhost:8080/"
        },
        "id": "3iRErCnCYGOE",
        "outputId": "bf14f6dd-c311-479e-d2eb-2b46419e365a"
      },
      "execution_count": 12,
      "outputs": [
        {
          "output_type": "stream",
          "name": "stdout",
          "text": [
            "Tên file: d:\\music\\muabui.mp3\n",
            "Tên bài hát: d:\\music\\muabui\n"
          ]
        }
      ]
    }
  ]
}