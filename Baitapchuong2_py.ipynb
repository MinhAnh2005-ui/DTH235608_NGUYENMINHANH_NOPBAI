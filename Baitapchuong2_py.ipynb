{
  "nbformat": 4,
  "nbformat_minor": 0,
  "metadata": {
    "colab": {
      "provenance": [],
      "authorship_tag": "ABX9TyP03+ITTumv8ZTDGlWhdYYs",
      "include_colab_link": true
    },
    "kernelspec": {
      "name": "python3",
      "display_name": "Python 3"
    },
    "language_info": {
      "name": "python"
    }
  },
  "cells": [
    {
      "cell_type": "markdown",
      "metadata": {
        "id": "view-in-github",
        "colab_type": "text"
      },
      "source": [
        "<a href=\"https://colab.research.google.com/github/MinhAnh2005-ui/DTH235608_NGUYENMINHANH_NOPBAI/blob/master/Baitapchuong2_py.ipynb\" target=\"_parent\"><img src=\"https://colab.research.google.com/assets/colab-badge.svg\" alt=\"Open In Colab\"/></a>"
      ]
    },
    {
      "cell_type": "code",
      "execution_count": null,
      "metadata": {
        "colab": {
          "base_uri": "https://localhost:8080/"
        },
        "id": "7jqImwQe8izg",
        "outputId": "9830f55a-555a-4835-ac91-0d9ccf5efb16"
      },
      "outputs": [
        {
          "output_type": "stream",
          "name": "stdout",
          "text": [
            "Nhập số tiền ban đầu (X): 500\n",
            "Sau 18 tháng, số tiền là: 556.84\n"
          ]
        }
      ],
      "source": [
        "#Câu 1\n",
        "x = float(input(\"Nhập số tiền ban đầu (X): \"))\n",
        "lai_suat = 0.006\n",
        "thang = 18\n",
        "\n",
        "tien = x * ((1 + lai_suat) ** thang)\n",
        "print(\"Sau 18 tháng, số tiền là:\", round(tien, 2))"
      ]
    },
    {
      "cell_type": "code",
      "source": [
        "#Câu 2\n",
        "a = float(input(\"Nhập a: \"))\n",
        "b = float(input(\"Nhập b: \"))\n",
        "ch = input(\"Nhập ký tự phép toán (+, -, *, /): \")\n",
        "\n",
        "if ch == '+':\n",
        "    print(\"Kết quả:\", a + b)\n",
        "elif ch == '-':\n",
        "    print(\"Kết quả:\", a - b)\n",
        "elif ch == '*':\n",
        "    print(\"Kết quả:\", a * b)\n",
        "elif ch == '/':\n",
        "    if b == 0:\n",
        "        print(\"Không thể chia cho 0\")\n",
        "    else:\n",
        "        print(\"Kết quả:\", a / b)\n",
        "else:\n",
        "    print(\"Ký tự nhập không hợp lệ.\")"
      ],
      "metadata": {
        "id": "_przBLvC-Y3f",
        "colab": {
          "base_uri": "https://localhost:8080/"
        },
        "outputId": "abb24290-3c99-41eb-fa60-0333527b248b"
      },
      "execution_count": 1,
      "outputs": [
        {
          "output_type": "stream",
          "name": "stdout",
          "text": [
            "Nhập a: 6\n",
            "Nhập b: 7\n",
            "Nhập ký tự phép toán (+, -, *, /): +\n",
            "Kết quả: 13.0\n"
          ]
        }
      ]
    },
    {
      "cell_type": "code",
      "source": [
        "#Câu 3\n",
        "import math\n",
        "\n",
        "r = float(input(\"Nhập bán kính r: \"))\n",
        "if r < 0:\n",
        "    print(\"Bán kính phải >= 0\")\n",
        "else:\n",
        "    dientich = math.pi * r * r\n",
        "    print(\"Diện tích hình tròn =\", dientich)"
      ],
      "metadata": {
        "colab": {
          "base_uri": "https://localhost:8080/"
        },
        "id": "92NsoSYGi2ZS",
        "outputId": "397c6b16-04c8-43b4-9016-62b59e4d203c"
      },
      "execution_count": 2,
      "outputs": [
        {
          "output_type": "stream",
          "name": "stdout",
          "text": [
            "Nhập bán kính r: 5\n",
            "Diện tích hình tròn = 78.53981633974483\n"
          ]
        }
      ]
    },
    {
      "cell_type": "code",
      "source": [
        "#Câu 4\n",
        "thang = int(input(\"Nhập tháng (1-12): \"))\n",
        "\n",
        "if thang in (1, 3, 5, 7, 8, 10, 12):\n",
        "    print(\"Tháng\", thang, \"có 31 ngày\")\n",
        "elif thang in (4, 6, 9, 11):\n",
        "    print(\"Tháng\", thang, \"có 30 ngày\")\n",
        "elif thang == 2:\n",
        "    nam = int(input(\"Nhập năm: \"))\n",
        "    if (nam % 400 == 0) or (nam % 4 == 0 and nam % 100 != 0):\n",
        "        print(\"Tháng 2 năm\", nam, \"có 29 ngày (năm nhuận)\")\n",
        "    else:\n",
        "        print(\"Tháng 2 năm\", nam, \"có 28 ngày\")\n",
        "else:\n",
        "    print(\"Tháng không hợp lệ\")"
      ],
      "metadata": {
        "colab": {
          "base_uri": "https://localhost:8080/"
        },
        "id": "yy8UozaEjGhj",
        "outputId": "50cf3e3a-d7cc-44b2-c7fb-e1e172449d44"
      },
      "execution_count": 4,
      "outputs": [
        {
          "output_type": "stream",
          "name": "stdout",
          "text": [
            "Nhập tháng (1-12): 2\n",
            "Nhập năm: 2019\n",
            "Tháng 2 năm 2019 có 28 ngày\n"
          ]
        }
      ]
    },
    {
      "cell_type": "code",
      "source": [
        "#Câu 5\n",
        "def doc_so(n):\n",
        "    donvi = [\"không\",\"một\",\"hai\",\"ba\",\"bốn\",\"năm\",\"sáu\",\"bảy\",\"tám\",\"chín\"]\n",
        "    if n < 10:\n",
        "        return donvi[n]\n",
        "    elif 10 <= n < 20:\n",
        "        if n == 10: return \"mười\"\n",
        "        if n == 15: return \"mười lăm\"\n",
        "        return \"mười \" + donvi[n % 10]\n",
        "    else:\n",
        "        chuc = donvi[n // 10] + \" mươi\"\n",
        "        dv = n % 10\n",
        "        if dv == 0: return chuc\n",
        "        if dv == 1: return chuc + \" mốt\"\n",
        "        if dv == 5: return chuc + \" lăm\"\n",
        "        return chuc + \" \" + donvi[dv]\n",
        "\n",
        "n = int(input(\"Nhập số (0-99): \"))\n",
        "if 0 <= n <= 99:\n",
        "    print(doc_so(n).capitalize())\n",
        "else:\n",
        "    print(\"Số ngoài phạm vi (0-99)\")"
      ],
      "metadata": {
        "colab": {
          "base_uri": "https://localhost:8080/"
        },
        "id": "Nh69jSeVjYzp",
        "outputId": "0f684d1b-ccf8-48b6-8b9e-4d872afa4b6a"
      },
      "execution_count": 5,
      "outputs": [
        {
          "output_type": "stream",
          "name": "stdout",
          "text": [
            "Nhập số (0-99): 56\n",
            "Năm mươi sáu\n"
          ]
        }
      ]
    },
    {
      "cell_type": "code",
      "source": [
        "#Câu 6\n",
        "import math\n",
        "\n",
        "a = float(input(\"Nhập a: \"))\n",
        "b = float(input(\"Nhập b: \"))\n",
        "c = float(input(\"Nhập c: \"))\n",
        "\n",
        "if a == 0:\n",
        "    if b == 0:\n",
        "        if c == 0:\n",
        "            print(\"Phương trình vô số nghiệm\")\n",
        "        else:\n",
        "            print(\"Phương trình vô nghiệm\")\n",
        "    else:\n",
        "        print(\"Nghiệm của phương trình: x =\", -c / b)\n",
        "else:\n",
        "    delta = b*b - 4*a*c\n",
        "    if delta < 0:\n",
        "        print(\"Phương trình vô nghiệm\")\n",
        "    elif delta == 0:\n",
        "        print(\"Nghiệm kép: x =\", -b / (2*a))\n",
        "    else:\n",
        "        x1 = (-b + math.sqrt(delta)) / (2*a)\n",
        "        x2 = (-b - math.sqrt(delta)) / (2*a)\n",
        "        print(\"Hai nghiệm phân biệt: x1 =\", x1, \", x2 =\", x2)"
      ],
      "metadata": {
        "colab": {
          "base_uri": "https://localhost:8080/"
        },
        "id": "Iuzgusx6jocv",
        "outputId": "5ea5c26b-eb72-4c18-e292-ffca4af24e89"
      },
      "execution_count": 10,
      "outputs": [
        {
          "output_type": "stream",
          "name": "stdout",
          "text": [
            "Nhập a: 6\n",
            "Nhập b: 3\n",
            "Nhập c: 1\n",
            "Phương trình vô nghiệm\n"
          ]
        }
      ]
    },
    {
      "cell_type": "code",
      "source": [
        "#Câu 7\n",
        "n = int(input(\"Nhập số nguyên n: \"))\n",
        "ketqua = n + n**2 + n**3\n",
        "print(\"Kết quả =\", ketqua)"
      ],
      "metadata": {
        "colab": {
          "base_uri": "https://localhost:8080/"
        },
        "id": "1ePx7d7FkMGV",
        "outputId": "d3007d04-28b1-4e06-ea1d-bad300377356"
      },
      "execution_count": 11,
      "outputs": [
        {
          "output_type": "stream",
          "name": "stdout",
          "text": [
            "Nhập số nguyên n: 5\n",
            "Kết quả = 155\n"
          ]
        }
      ]
    },
    {
      "cell_type": "code",
      "source": [
        "#Câu 8\n",
        "n = int(input(\"Nhập n (1 < n < 9): \"))\n",
        "if 1 < n < 9:\n",
        "    for i in range(1, 11):\n",
        "        print(f\"{n} x {i} = {n*i}\")\n",
        "else:\n",
        "    print(\"n phải nằm trong khoảng 2..8\")"
      ],
      "metadata": {
        "colab": {
          "base_uri": "https://localhost:8080/"
        },
        "id": "8DPU1ihbkbGY",
        "outputId": "24152357-190e-4c7d-f07b-0d359343cf1d"
      },
      "execution_count": 12,
      "outputs": [
        {
          "output_type": "stream",
          "name": "stdout",
          "text": [
            "Nhập n (1 < n < 9): 5\n",
            "5 x 1 = 5\n",
            "5 x 2 = 10\n",
            "5 x 3 = 15\n",
            "5 x 4 = 20\n",
            "5 x 5 = 25\n",
            "5 x 6 = 30\n",
            "5 x 7 = 35\n",
            "5 x 8 = 40\n",
            "5 x 9 = 45\n",
            "5 x 10 = 50\n"
          ]
        }
      ]
    },
    {
      "cell_type": "code",
      "source": [
        "#Câu 9\n",
        "n = int(input(\"Nhập n (n > 0): \"))\n",
        "\n",
        "# S1 = 1 + 2 + ... + n\n",
        "S1 = sum(range(1, n+1))\n",
        "\n",
        "# S2 = 1 + 3 + ... + (2n - 1)\n",
        "S2 = sum(2*i - 1 for i in range(1, n+1))\n",
        "\n",
        "# S3 = 2 + 4 + ... + 2n\n",
        "S3 = sum(2*i for i in range(1, n+1))\n",
        "\n",
        "# S4 = 1^2 + 2^2 + ... + n^2\n",
        "S4 = sum(i*i for i in range(1, n+1))\n",
        "\n",
        "# S5 = 1/1 + 1/2 + ... + 1/n\n",
        "S5 = sum(1/i for i in range(1, n+1))\n",
        "\n",
        "print(\"S1 =\", S1)\n",
        "print(\"S2 =\", S2)\n",
        "print(\"S3 =\", S3)\n",
        "print(\"S4 =\", S4)\n",
        "print(\"S5 =\", S5)"
      ],
      "metadata": {
        "colab": {
          "base_uri": "https://localhost:8080/"
        },
        "id": "HIayHEu-k8Ng",
        "outputId": "26291921-f3a9-43ad-f53e-8dfe13007283"
      },
      "execution_count": 14,
      "outputs": [
        {
          "output_type": "stream",
          "name": "stdout",
          "text": [
            "Nhập n (n > 0): 4\n",
            "S1 = 10\n",
            "S2 = 16\n",
            "S3 = 20\n",
            "S4 = 30\n",
            "S5 = 2.0833333333333335\n"
          ]
        }
      ]
    },
    {
      "cell_type": "code",
      "source": [
        "#Câu 10\n",
        "for i in range(2, 10):\n",
        "    print(f\"\\nBảng cửu chương {i}\")\n",
        "    for j in range(1, 11):\n",
        "        print(f\"{i} x {j} = {i*j}\")"
      ],
      "metadata": {
        "colab": {
          "base_uri": "https://localhost:8080/"
        },
        "id": "x5myP-ozlV03",
        "outputId": "b12c322e-63f3-46d1-e72c-18a8dbae8d38"
      },
      "execution_count": 15,
      "outputs": [
        {
          "output_type": "stream",
          "name": "stdout",
          "text": [
            "\n",
            "Bảng cửu chương 2\n",
            "2 x 1 = 2\n",
            "2 x 2 = 4\n",
            "2 x 3 = 6\n",
            "2 x 4 = 8\n",
            "2 x 5 = 10\n",
            "2 x 6 = 12\n",
            "2 x 7 = 14\n",
            "2 x 8 = 16\n",
            "2 x 9 = 18\n",
            "2 x 10 = 20\n",
            "\n",
            "Bảng cửu chương 3\n",
            "3 x 1 = 3\n",
            "3 x 2 = 6\n",
            "3 x 3 = 9\n",
            "3 x 4 = 12\n",
            "3 x 5 = 15\n",
            "3 x 6 = 18\n",
            "3 x 7 = 21\n",
            "3 x 8 = 24\n",
            "3 x 9 = 27\n",
            "3 x 10 = 30\n",
            "\n",
            "Bảng cửu chương 4\n",
            "4 x 1 = 4\n",
            "4 x 2 = 8\n",
            "4 x 3 = 12\n",
            "4 x 4 = 16\n",
            "4 x 5 = 20\n",
            "4 x 6 = 24\n",
            "4 x 7 = 28\n",
            "4 x 8 = 32\n",
            "4 x 9 = 36\n",
            "4 x 10 = 40\n",
            "\n",
            "Bảng cửu chương 5\n",
            "5 x 1 = 5\n",
            "5 x 2 = 10\n",
            "5 x 3 = 15\n",
            "5 x 4 = 20\n",
            "5 x 5 = 25\n",
            "5 x 6 = 30\n",
            "5 x 7 = 35\n",
            "5 x 8 = 40\n",
            "5 x 9 = 45\n",
            "5 x 10 = 50\n",
            "\n",
            "Bảng cửu chương 6\n",
            "6 x 1 = 6\n",
            "6 x 2 = 12\n",
            "6 x 3 = 18\n",
            "6 x 4 = 24\n",
            "6 x 5 = 30\n",
            "6 x 6 = 36\n",
            "6 x 7 = 42\n",
            "6 x 8 = 48\n",
            "6 x 9 = 54\n",
            "6 x 10 = 60\n",
            "\n",
            "Bảng cửu chương 7\n",
            "7 x 1 = 7\n",
            "7 x 2 = 14\n",
            "7 x 3 = 21\n",
            "7 x 4 = 28\n",
            "7 x 5 = 35\n",
            "7 x 6 = 42\n",
            "7 x 7 = 49\n",
            "7 x 8 = 56\n",
            "7 x 9 = 63\n",
            "7 x 10 = 70\n",
            "\n",
            "Bảng cửu chương 8\n",
            "8 x 1 = 8\n",
            "8 x 2 = 16\n",
            "8 x 3 = 24\n",
            "8 x 4 = 32\n",
            "8 x 5 = 40\n",
            "8 x 6 = 48\n",
            "8 x 7 = 56\n",
            "8 x 8 = 64\n",
            "8 x 9 = 72\n",
            "8 x 10 = 80\n",
            "\n",
            "Bảng cửu chương 9\n",
            "9 x 1 = 9\n",
            "9 x 2 = 18\n",
            "9 x 3 = 27\n",
            "9 x 4 = 36\n",
            "9 x 5 = 45\n",
            "9 x 6 = 54\n",
            "9 x 7 = 63\n",
            "9 x 8 = 72\n",
            "9 x 9 = 81\n",
            "9 x 10 = 90\n"
          ]
        }
      ]
    },
    {
      "cell_type": "code",
      "source": [
        "#Câu 11\n",
        "import math\n",
        "\n",
        "x = float(input(\"Nhập x: \"))\n",
        "n = int(input(\"Nhập n: \"))\n",
        "\n",
        "S = 0\n",
        "for i in range(1, n+1):\n",
        "    S += x**i / math.factorial(i)\n",
        "\n",
        "print(\"S(x,n) =\", S)"
      ],
      "metadata": {
        "colab": {
          "base_uri": "https://localhost:8080/"
        },
        "id": "YntlEWA6liLp",
        "outputId": "d874cb35-c049-4642-b9f5-2386dd0ba7f9"
      },
      "execution_count": 16,
      "outputs": [
        {
          "output_type": "stream",
          "name": "stdout",
          "text": [
            "Nhập x: 3\n",
            "Nhập n: 3\n",
            "S(x,n) = 12.0\n"
          ]
        }
      ]
    },
    {
      "cell_type": "code",
      "source": [
        "#Câu 12\n",
        "n = int(input(\"Nhập số nguyên thập phân: \"))\n",
        "print(\"Dạng nhị phân:\", bin(n)[2:])"
      ],
      "metadata": {
        "colab": {
          "base_uri": "https://localhost:8080/"
        },
        "id": "loeCtDsRlxx7",
        "outputId": "8ab3f40d-26bf-42ae-fdb6-30c88486da79"
      },
      "execution_count": 18,
      "outputs": [
        {
          "output_type": "stream",
          "name": "stdout",
          "text": [
            "Nhập số nguyên thập phân: 12\n",
            "Dạng nhị phân: 1100\n"
          ]
        }
      ]
    },
    {
      "cell_type": "code",
      "source": [
        "#Câu 13\n",
        "import math\n",
        "\n",
        "a = float(input(\"Nhập a (a≠0): \"))\n",
        "b = float(input(\"Nhập b: \"))\n",
        "c = float(input(\"Nhập c: \"))\n",
        "\n",
        "if a == 0:\n",
        "    print(\"a phải khác 0!\")\n",
        "else:\n",
        "    delta = b*b - 4*a*c\n",
        "    if delta < 0:\n",
        "        print(\"Phương trình vô nghiệm\")\n",
        "    elif delta == 0:\n",
        "        x = -b / (2*a)\n",
        "        print(\"Nghiệm kép: x =\", x)\n",
        "    else:\n",
        "        x1 = (-b + math.sqrt(delta)) / (2*a)\n",
        "        x2 = (-b - math.sqrt(delta)) / (2*a)\n",
        "        print(\"Hai nghiệm phân biệt: x1 =\", x1, \", x2 =\", x2)"
      ],
      "metadata": {
        "colab": {
          "base_uri": "https://localhost:8080/"
        },
        "id": "A9kGzCVomEFp",
        "outputId": "fdf74abc-620a-4ef5-eec2-2d988a6112c8"
      },
      "execution_count": 24,
      "outputs": [
        {
          "output_type": "stream",
          "name": "stdout",
          "text": [
            "Nhập a (a≠0): 1\n",
            "Nhập b: 1\n",
            "Nhập c: 0\n",
            "Hai nghiệm phân biệt: x1 = 0.0 , x2 = -1.0\n"
          ]
        }
      ]
    },
    {
      "cell_type": "code",
      "source": [
        "#Câu 14\n",
        "ngay = int(input(\"Nhập số ngày bạn ngủ lại (vd: 137): \"))\n",
        "\n",
        "# Giả sử hôm nay là Chủ nhật (0)\n",
        "# 0: Chủ nhật, 1: Thứ 2, ..., 6: Thứ 7\n",
        "thu = (ngay % 7)\n",
        "\n",
        "danh_sach = {\n",
        "    0: \"Chủ nhật\",\n",
        "    1: \"Thứ hai\",\n",
        "    2: \"Thứ ba\",\n",
        "    3: \"Thứ tư\",\n",
        "    4: \"Thứ năm\",\n",
        "    5: \"Thứ sáu\",\n",
        "    6: \"Thứ bảy\"\n",
        "}\n",
        "\n",
        "print(f\"Sau {ngay} ngày thì sẽ là:\", danh_sach[thu])"
      ],
      "metadata": {
        "colab": {
          "base_uri": "https://localhost:8080/"
        },
        "id": "w8i1FDMnmh7l",
        "outputId": "e9f08f9a-69df-4d9e-97b5-9394e055e09f"
      },
      "execution_count": 25,
      "outputs": [
        {
          "output_type": "stream",
          "name": "stdout",
          "text": [
            "Nhập số ngày bạn ngủ lại (vd: 137): 137\n",
            "Sau 137 ngày thì sẽ là: Thứ năm\n"
          ]
        }
      ]
    },
    {
      "cell_type": "code",
      "source": [
        "#Câu 15\n",
        "a, b, c = map(float, input(\"Nhập 3 số a, b, c: \").split())\n",
        "\n",
        "if a + b > c and a + c > b and b + c > a:\n",
        "    print(\"Có thể tạo thành một tam giác\")\n",
        "else:\n",
        "    print(\"Không thể tạo thành một tam giác\")"
      ],
      "metadata": {
        "colab": {
          "base_uri": "https://localhost:8080/"
        },
        "id": "9EQRhpfTm19i",
        "outputId": "10b6e66b-e7fe-43de-a3ca-5397fd03ed35"
      },
      "execution_count": 30,
      "outputs": [
        {
          "output_type": "stream",
          "name": "stdout",
          "text": [
            "Nhập 3 số a, b, c: 2 2 2 \n",
            "Có thể tạo thành một tam giác\n"
          ]
        }
      ]
    },
    {
      "cell_type": "code",
      "source": [
        "#Câu 16\n",
        "day, month, year = map(int, input(\"Nhập ngày, tháng, năm: \").split())\n",
        "\n",
        "hop_le = True\n",
        "# Kiểm tra tháng\n",
        "if month < 1 or month > 12:\n",
        "    hop_le = False\n",
        "else:\n",
        "    # Số ngày trong tháng\n",
        "    if month in [1,3,5,7,8,10,12]:\n",
        "        max_day = 31\n",
        "    elif month in [4,6,9,11]:\n",
        "        max_day = 30\n",
        "    else:  # tháng 2\n",
        "        # Năm nhuận\n",
        "        if (year % 400 == 0) or (year % 4 == 0 and year % 100 != 0):\n",
        "            max_day = 29\n",
        "        else:\n",
        "            max_day = 28\n",
        "    if day < 1 or day > max_day:\n",
        "        hop_le = False\n",
        "\n",
        "if hop_le:\n",
        "    print(\"Ngày hợp lệ\")\n",
        "else:\n",
        "    print(\"Ngày không hợp lệ\")"
      ],
      "metadata": {
        "colab": {
          "base_uri": "https://localhost:8080/"
        },
        "id": "hrNP-My-n-pF",
        "outputId": "a3e6c0a5-e789-475d-c6f2-c26b51389752"
      },
      "execution_count": 31,
      "outputs": [
        {
          "output_type": "stream",
          "name": "stdout",
          "text": [
            "Nhập ngày, tháng, năm: 19 9 2005\n",
            "Ngày hợp lệ\n"
          ]
        }
      ]
    },
    {
      "cell_type": "code",
      "source": [
        "#Câu 17\n",
        "n = int(input(\"Nhập số tự nhiên n: \"))\n",
        "\n",
        "# a) Tổng 1+2+...+n\n",
        "tong = sum(range(1, n+1))\n",
        "print(\"Tổng 1+2+...+n =\", tong)\n",
        "\n",
        "# b) Tổng các số lẻ < n\n",
        "tong_le = sum(i for i in range(n) if i % 2 == 1)\n",
        "print(\"Tổng các số lẻ <\", n, \"=\", tong_le)\n",
        "\n",
        "# c) Tổng các số chẵn < n\n",
        "tong_chan = sum(i for i in range(n) if i % 2 == 0)\n",
        "print(\"Tổng các số chẵn <\", n, \"=\", tong_chan)"
      ],
      "metadata": {
        "colab": {
          "base_uri": "https://localhost:8080/"
        },
        "id": "NK4n_UO0oYIY",
        "outputId": "5f46ee48-ff17-4c87-b5ff-7a86a7badb8c"
      },
      "execution_count": 32,
      "outputs": [
        {
          "output_type": "stream",
          "name": "stdout",
          "text": [
            "Nhập số tự nhiên n: 19\n",
            "Tổng 1+2+...+n = 190\n",
            "Tổng các số lẻ < 19 = 81\n",
            "Tổng các số chẵn < 19 = 90\n"
          ]
        }
      ]
    },
    {
      "cell_type": "code",
      "source": [
        "#Câu 18\n",
        "n = int(input(\"Nhập số tự nhiên n: \"))\n",
        "\n",
        "# a) Tính số các ước số nguyên tố khác nhau của n\n",
        "uoc_nt = []\n",
        "for i in range(2, n+1):\n",
        "    if n % i == 0:\n",
        "        # kiểm tra i có phải số nguyên tố\n",
        "        la_nt = True\n",
        "        for j in range(2, int(i**0.5)+1):\n",
        "            if i % j == 0:\n",
        "                la_nt = False\n",
        "                break\n",
        "        if la_nt:\n",
        "            uoc_nt.append(i)\n",
        "print(\"Các ước nguyên tố khác nhau của\", n, \":\", uoc_nt)\n",
        "\n",
        "# b) Tính tổng các ước số thực sự của n (không tính n)\n",
        "tong_uoc = sum(i for i in range(1, n) if n % i == 0)\n",
        "print(\"Tổng các ước số thực sự của\", n, \"=\", tong_uoc)\n",
        "\n",
        "# c) Tính tổng 12 + 22 + ... + n2 (ở đề là 12 nghĩa là 1^2)\n",
        "tong_bp = sum(i**2 for i in range(1, n+1))\n",
        "print(\"Tổng bình phương 1^2+2^2+...+n^2 =\", tong_bp)"
      ],
      "metadata": {
        "colab": {
          "base_uri": "https://localhost:8080/"
        },
        "id": "osKIlWHEoqOq",
        "outputId": "deece5a5-58af-4228-bdf5-6783fd876e9a"
      },
      "execution_count": 33,
      "outputs": [
        {
          "output_type": "stream",
          "name": "stdout",
          "text": [
            "Nhập số tự nhiên n: 19\n",
            "Các ước nguyên tố khác nhau của 19 : [19]\n",
            "Tổng các ước số thực sự của 19 = 1\n",
            "Tổng bình phương 1^2+2^2+...+n^2 = 2470\n"
          ]
        }
      ]
    },
    {
      "cell_type": "code",
      "source": [
        "#Câu 19\n",
        "# a) Hàm tính tổng 1+2+...+n\n",
        "def tong_n(n):\n",
        "    return sum(range(1, n+1))\n",
        "\n",
        "# b) Hàm kiểm tra hai số nguyên tố cùng nhau\n",
        "import math\n",
        "\n",
        "def kiem_tra_nguyen_to_cung_nhau(m, n):\n",
        "    if math.gcd(m, n) == 1:\n",
        "        print(\"Hai số này là nguyên tố cùng nhau\")\n",
        "    else:\n",
        "        print(\"Hai số này không là nguyên tố cùng nhau\")\n",
        "\n",
        "# --- Chạy thử ---\n",
        "m, n = map(int, input(\"Nhập 2 số m và n: \").split())\n",
        "kiem_tra_nguyen_to_cung_nhau(m, n)\n",
        "\n",
        "# c) Hàm đổi giây thành giờ-phút-giây\n",
        "def doi_giay(s):\n",
        "    h = s // 3600\n",
        "    s %= 3600\n",
        "    p = s // 60\n",
        "    s %= 60\n",
        "    return h, p, s\n",
        "\n",
        "# d) Hàm tính giá trị tuyệt đối |a-b|\n",
        "def hieu_tuyet_doi(a, b):\n",
        "    return abs(a-b)\n",
        "\n",
        "# ---- Test ----\n",
        "print(\"Tổng 1..10 =\", tong_n(10))\n",
        "print(\"9 và 28 nguyên tố cùng nhau?\", nguyen_to_cung_nhau(9, 28))\n",
        "print(\"5000 giây =\", doi_giay(5000))\n",
        "print(\"|7 - 12| =\", hieu_tuyet_doi(7, 12))"
      ],
      "metadata": {
        "colab": {
          "base_uri": "https://localhost:8080/"
        },
        "id": "hnFyG9H-pCR1",
        "outputId": "99c22a0c-530b-41fd-f41b-159436cb6708"
      },
      "execution_count": 36,
      "outputs": [
        {
          "output_type": "stream",
          "name": "stdout",
          "text": [
            "Nhập 2 số m và n: 9 28\n",
            "Hai số này là nguyên tố cùng nhau\n",
            "Tổng 1..10 = 55\n",
            "9 và 28 nguyên tố cùng nhau? True\n",
            "5000 giây = (1, 23, 20)\n",
            "|7 - 12| = 5\n"
          ]
        }
      ]
    },
    {
      "cell_type": "code",
      "source": [
        "#Câu 20\n",
        "import math\n",
        "\n",
        "def f(m: int, n: int) -> int:\n",
        "    \"\"\"\n",
        "    Trả về số nguyên tố lớn nhất là ước chung của m và n.\n",
        "    Nếu không tồn tại, trả 0.\n",
        "    Ý tưởng: lấy g = gcd(m, n), rồi tìm thừa số nguyên tố lớn nhất của g.\n",
        "    \"\"\"\n",
        "    g = math.gcd(m, n)\n",
        "    if g < 2:\n",
        "        return 0\n",
        "\n",
        "    largest = 0\n",
        "\n",
        "    # tách thừa số 2 trước\n",
        "    while g % 2 == 0:\n",
        "        largest = 2\n",
        "        g //= 2\n",
        "\n",
        "    # tách các thừa số lẻ\n",
        "    d = 3\n",
        "    while d * d <= g:\n",
        "        while g % d == 0:\n",
        "            largest = d\n",
        "            g //= d\n",
        "        d += 2\n",
        "\n",
        "    # nếu còn lại > 1 thì chính nó là thừa số nguyên tố lớn nhất\n",
        "    if g > 1:\n",
        "        largest = g\n",
        "\n",
        "    return int(largest)\n",
        "\n",
        "# ---- Chạy thử nhanh ----\n",
        "if __name__ == \"__main__\":\n",
        "    # chấp nhận nhập \"m n\" hoặc \"m,n\"\n",
        "    m, n = map(int, input(\"Nhập m và n: \").replace(\",\", \" \").split())\n",
        "    print(\"f(m, n) =\", f(m, n))"
      ],
      "metadata": {
        "colab": {
          "base_uri": "https://localhost:8080/"
        },
        "id": "IpyzQbzVp7qt",
        "outputId": "37a86a60-a834-4053-bd30-fb5d5e615cb6"
      },
      "execution_count": 40,
      "outputs": [
        {
          "output_type": "stream",
          "name": "stdout",
          "text": [
            "Nhập m và n: 9 28\n",
            "f(m, n) = 0\n"
          ]
        }
      ]
    }
  ]
}