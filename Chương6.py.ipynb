{
  "cells": [
    {
      "cell_type": "markdown",
      "metadata": {
        "id": "view-in-github",
        "colab_type": "text"
      },
      "source": [
        "<a href=\"https://colab.research.google.com/github/MinhAnh2005-ui/DTH235608_NGUYENMINHANH_NOPBAI/blob/master/Ch%C6%B0%C6%A1ng6.py.ipynb\" target=\"_parent\"><img src=\"https://colab.research.google.com/assets/colab-badge.svg\" alt=\"Open In Colab\"/></a>"
      ]
    },
    {
      "cell_type": "code",
      "source": [
        "\n",
        "#Câu 1\n",
        "from random import randrange\n",
        "\n",
        "print(\"=== CHƯƠNG TRÌNH XỬ LÝ LIST ===\")\n",
        "\n",
        "n = int(input(\"Nhập số phần tử: \"))\n",
        "lst = []\n",
        "\n",
        "for i in range(n):\n",
        "    lst.append(randrange(-100, 100))\n",
        "\n",
        "print(\"List ngẫu nhiên là:\")\n",
        "print(lst)\n",
        "\n",
        "value = int(input(\"Nhập số bạn muốn thêm vào list: \"))\n",
        "lst.append(value)\n",
        "print(\"List sau khi thêm:\")\n",
        "print(lst)\n",
        "k = int(input(\"Nhập số k cần kiểm tra: \"))\n",
        "dem = lst.count(k)\n",
        "print(f\"Số {k} xuất hiện {dem} lần trong list.\")\n",
        "def CheckPrime(n):\n",
        "    if n < 2:\n",
        "        return False\n",
        "    for i in range(2, int(n**0.5) + 1):\n",
        "        if n % i == 0:\n",
        "            return False\n",
        "    return True\n",
        "\n",
        "\n",
        "demnt = 0\n",
        "tongnt = 0\n",
        "for x in lst:\n",
        "    if CheckPrime(x):\n",
        "        demnt += 1\n",
        "        tongnt += x\n",
        "\n",
        "print(f\"Có {demnt} số nguyên tố trong list.\")\n",
        "print(f\"Tổng các số nguyên tố = {tongnt}\")\n",
        "\n",
        "\n",
        "lst.sort()\n",
        "print(\"List sau khi sắp xếp tăng dần:\")\n",
        "print(lst)\n",
        "\n",
        "\n",
        "del lst\n",
        "print(\"List sau khi xóa:\")\n",
        "try:\n",
        "    print(lst)\n",
        "except:\n",
        "    print(\"List đã bị xóa!\")"
      ],
      "metadata": {
        "id": "HUP4um_ffWRF",
        "outputId": "790b5c78-f045-462b-9680-89790d38f1fa",
        "colab": {
          "base_uri": "https://localhost:8080/"
        }
      },
      "execution_count": 2,
      "outputs": [
        {
          "output_type": "stream",
          "name": "stdout",
          "text": [
            "=== CHƯƠNG TRÌNH XỬ LÝ LIST ===\n",
            "Nhập số phần tử: 3\n",
            "List ngẫu nhiên là:\n",
            "[48, -22, -47]\n",
            "Nhập số bạn muốn thêm vào list: 11\n",
            "List sau khi thêm:\n",
            "[48, -22, -47, 11]\n",
            "Nhập số k cần kiểm tra: 5\n",
            "Số 5 xuất hiện 0 lần trong list.\n",
            "Có 1 số nguyên tố trong list.\n",
            "Tổng các số nguyên tố = 11\n",
            "List sau khi sắp xếp tăng dần:\n",
            "[-47, -22, 11, 48]\n",
            "List sau khi xóa:\n",
            "List đã bị xóa!\n"
          ]
        }
      ]
    },
    {
      "cell_type": "code",
      "source": [
        "#Câu 2\n",
        "from random import randrange\n",
        "\n",
        "print(\"=== CHƯƠNG TRÌNH XỬ LÝ LIST NGẪU NHIÊN ===\")\n",
        "\n",
        "lst = []\n",
        "n = int(input(\"Nhập số phần tử: \"))\n",
        "for i in range(n):\n",
        "    lst.append(randrange(0, 100))\n",
        "\n",
        "print(\"List sau khi tạo ngẫu nhiên là:\")\n",
        "print(lst)\n",
        "\n",
        "\n",
        "x = int(input(\"Nhập số muốn chèn thêm vào list: \"))\n",
        "lst.append(x)\n",
        "print(\"List sau khi chèn thêm phần tử:\")\n",
        "print(lst)\n",
        "\n",
        "k = int(input(\"Nhập số k để xóa khỏi list: \"))\n",
        "while k in lst:\n",
        "    lst.remove(k)\n",
        "\n",
        "print(\"List sau khi xóa tất cả phần tử có giá trị bằng k:\")\n",
        "print(lst)\n",
        "\n",
        "\n",
        "def CheckDoiXung(lst):\n",
        "    for i in range(len(lst) // 2):\n",
        "        if lst[i] != lst[-i - 1]:\n",
        "            return False\n",
        "    return True\n",
        "\n",
        "\n",
        "if CheckDoiXung(lst):\n",
        "    print(\" List đối xứng\")\n",
        "else:\n",
        "    print(\" List không đối xứng\")"
      ],
      "metadata": {
        "id": "vQp_xC7Lgcp7",
        "outputId": "f2ec3211-d054-47ee-e28b-c9ab4dfc4b55",
        "colab": {
          "base_uri": "https://localhost:8080/"
        }
      },
      "execution_count": 4,
      "outputs": [
        {
          "output_type": "stream",
          "name": "stdout",
          "text": [
            "=== CHƯƠNG TRÌNH XỬ LÝ LIST NGẪU NHIÊN ===\n",
            "Nhập số phần tử: 3\n",
            "List sau khi tạo ngẫu nhiên là:\n",
            "[40, 44, 95]\n",
            "Nhập số muốn chèn thêm vào list: 5\n",
            "List sau khi chèn thêm phần tử:\n",
            "[40, 44, 95, 5]\n",
            "Nhập số k để xóa khỏi list: 5\n",
            "List sau khi xóa tất cả phần tử có giá trị bằng k:\n",
            "[40, 44, 95]\n",
            " List không đối xứng\n"
          ]
        }
      ]
    },
    {
      "cell_type": "code",
      "source": [
        "#Câu 3\n",
        "from random import randrange\n",
        "\n",
        "\n",
        "def TaoMaTran(m, n):\n",
        "    D = []\n",
        "    for i in range(m):\n",
        "        row = []\n",
        "        for j in range(n):\n",
        "            row.append(randrange(0, 100))\n",
        "        D.append(row)\n",
        "    return D\n",
        "\n",
        "\n",
        "def XuatMaTran(D):\n",
        "    print(\"Ma trận hiện tại là:\")\n",
        "    for row in D:\n",
        "        for element in row:\n",
        "            print(element, end='\\t')\n",
        "        print()\n",
        "\n",
        "\n",
        "def LayDong(D, r):\n",
        "    return D[r]\n",
        "\n",
        "\n",
        "def LayCot(D, c):\n",
        "    C = []\n",
        "    for i in range(len(D)):\n",
        "        C.append(D[i][c])\n",
        "    return C\n",
        "\n",
        "\n",
        "def XuatList1Chieu(L):\n",
        "    for element in L:\n",
        "        print(element, end='\\t')\n",
        "    print()\n",
        "\n",
        "\n",
        "def TimMax(D):\n",
        "    max_val = D[0][0]\n",
        "    for i in range(len(D)):\n",
        "        for j in range(len(D[i])):\n",
        "            if D[i][j] > max_val:\n",
        "                max_val = D[i][j]\n",
        "    return max_val\n",
        "\n",
        "\n",
        "# === CHƯƠNG TRÌNH CHÍNH ===\n",
        "print(\"=== CHƯƠNG TRÌNH XỬ LÝ LIST ĐA CHIỀU ===\")\n",
        "\n",
        "m = int(input(\"Nhập số dòng của ma trận: \"))\n",
        "n = int(input(\"Nhập số cột của ma trận: \"))\n",
        "\n",
        "D = TaoMaTran(m, n)\n",
        "XuatMaTran(D)\n",
        "\n",
        "# Xuất dòng bất kỳ\n",
        "r = int(input(\"Nhập chỉ số dòng muốn xuất (tính từ 0): \"))\n",
        "print(f\"Dòng {r} là:\")\n",
        "XuatList1Chieu(LayDong(D, r))\n",
        "\n",
        "# Xuất cột bất kỳ\n",
        "c = int(input(\"Nhập chỉ số cột muốn xuất (tính từ 0): \"))\n",
        "print(f\"Cột {c} là:\")\n",
        "XuatList1Chieu(LayCot(D, c))\n",
        "\n",
        "# Tìm giá trị lớn nhất trong ma trận\n",
        "max_val = TimMax(D)\n",
        "print(\"Giá trị lớn nhất trong ma trận là:\", max_val)"
      ],
      "metadata": {
        "id": "xzIWdxoWhGsW",
        "outputId": "4dee41c1-2bd7-4576-a088-864a325af6fb",
        "colab": {
          "base_uri": "https://localhost:8080/"
        }
      },
      "execution_count": 5,
      "outputs": [
        {
          "output_type": "stream",
          "name": "stdout",
          "text": [
            "=== CHƯƠNG TRÌNH XỬ LÝ LIST ĐA CHIỀU ===\n",
            "Nhập số dòng của ma trận: 4\n",
            "Nhập số cột của ma trận: 4\n",
            "Ma trận hiện tại là:\n",
            "67\t89\t47\t65\t\n",
            "27\t17\t63\t65\t\n",
            "91\t14\t2\t56\t\n",
            "53\t28\t17\t60\t\n",
            "Nhập chỉ số dòng muốn xuất (tính từ 0): 2\n",
            "Dòng 2 là:\n",
            "91\t14\t2\t56\t\n",
            "Nhập chỉ số cột muốn xuất (tính từ 0): 0\n",
            "Cột 0 là:\n",
            "67\t27\t91\t53\t\n",
            "Giá trị lớn nhất trong ma trận là: 91\n"
          ]
        }
      ]
    },
    {
      "cell_type": "code",
      "source": [
        "#Câu 4\n",
        "print(\"=== XÁC ĐỊNH KẾT QUẢ KHI THỰC THI LIST ===\")\n",
        "\n",
        "lst = [3, 0, 1, 5, 2]\n",
        "x = 2\n",
        "\n",
        "print(\"List:\", lst)\n",
        "print(\"x =\", x)\n",
        "print(\"-------------------------------\")\n",
        "\n",
        "print(\"(a) lst[0] =\", lst[0])\n",
        "print(\"(b) lst[3] =\", lst[3])\n",
        "print(\"(c) lst[x] =\", lst[x])\n",
        "print(\"(d) lst[-x] =\", lst[-x])\n",
        "print(\"(e) lst[x + 1] =\", lst[x + 1])\n",
        "print(\"(f) lst[x] + 1 =\", lst[x] + 1)\n",
        "print(\"(g) lst[lst[x]] =\", lst[lst[x]])\n",
        "print(\"(h) lst[lst[lst[x]]] =\", lst[lst[lst[x]]])"
      ],
      "metadata": {
        "id": "ijV36CHyilFa",
        "outputId": "22a22e08-e0aa-447d-c478-84621db64dc1",
        "colab": {
          "base_uri": "https://localhost:8080/"
        }
      },
      "execution_count": 7,
      "outputs": [
        {
          "output_type": "stream",
          "name": "stdout",
          "text": [
            "=== XÁC ĐỊNH KẾT QUẢ KHI THỰC THI LIST ===\n",
            "List: [3, 0, 1, 5, 2]\n",
            "x = 2\n",
            "-------------------------------\n",
            "(a) lst[0] = 3\n",
            "(b) lst[3] = 5\n",
            "(c) lst[x] = 1\n",
            "(d) lst[-x] = 5\n",
            "(e) lst[x + 1] = 5\n",
            "(f) lst[x] + 1 = 2\n",
            "(g) lst[lst[x]] = 0\n",
            "(h) lst[lst[lst[x]]] = 3\n"
          ]
        }
      ]
    },
    {
      "cell_type": "code",
      "source": [
        "#Câu 5\n",
        "print(\"\\nXÁC ĐỊNH KẾT QUẢ KHI THỰC THI LIST \")\n",
        "\n",
        "lst = [20, 1, -34, 40, -8, 60, 1, 3]\n",
        "print(\"List:\", lst)\n",
        "print(\"-------------------------------\")\n",
        "\n",
        "print(\"(a) lst =\", lst)\n",
        "print(\"(b) lst[0:3] =\", lst[0:3])\n",
        "print(\"(c) lst[4:8] =\", lst[4:8])\n",
        "print(\"(d) lst[4:33] =\", lst[4:33])\n",
        "print(\"(e) lst[-5:-3] =\", lst[-5:-3])\n",
        "print(\"(f) lst[-22:3] =\", lst[-22:3])\n",
        "print(\"(g) lst[4:] =\", lst[4:])\n",
        "print(\"(h) lst[:] =\", lst[:])\n",
        "print(\"(i) lst[:4] =\", lst[:4])\n",
        "print(\"(j) lst[1:5] =\", lst[1:5])\n",
        "print(\"(k) -34 in lst =\", -34 in lst)\n",
        "print(\"(l) -34 not in lst =\", -34 not in lst)\n",
        "print(\"(m) len(lst) =\", len(lst))"
      ],
      "metadata": {
        "id": "SQ9NQ130jE8w",
        "outputId": "2548e545-1e67-46d2-f29b-26bb98ae0ea3",
        "colab": {
          "base_uri": "https://localhost:8080/"
        }
      },
      "execution_count": 8,
      "outputs": [
        {
          "output_type": "stream",
          "name": "stdout",
          "text": [
            "\n",
            "XÁC ĐỊNH KẾT QUẢ KHI THỰC THI LIST \n",
            "List: [20, 1, -34, 40, -8, 60, 1, 3]\n",
            "-------------------------------\n",
            "(a) lst = [20, 1, -34, 40, -8, 60, 1, 3]\n",
            "(b) lst[0:3] = [20, 1, -34]\n",
            "(c) lst[4:8] = [-8, 60, 1, 3]\n",
            "(d) lst[4:33] = [-8, 60, 1, 3]\n",
            "(e) lst[-5:-3] = [40, -8]\n",
            "(f) lst[-22:3] = [20, 1, -34]\n",
            "(g) lst[4:] = [-8, 60, 1, 3]\n",
            "(h) lst[:] = [20, 1, -34, 40, -8, 60, 1, 3]\n",
            "(i) lst[:4] = [20, 1, -34, 40]\n",
            "(j) lst[1:5] = [1, -34, 40, -8]\n",
            "(k) -34 in lst = True\n",
            "(l) -34 not in lst = False\n",
            "(m) len(lst) = 8\n"
          ]
        }
      ]
    },
    {
      "cell_type": "code",
      "source": [
        "#Câu 6\n",
        "from random import randint\n",
        "\n",
        "print(\"=== NHẬP 1 LIST CÓ N SỐ NGẪU NHIÊN KHÔNG TRÙNG NHAU ===\")\n",
        "\n",
        "# Nhập số phần tử\n",
        "n = int(input(\"Nhập số phần tử N: \"))\n",
        "\n",
        "lst = []\n",
        "while len(lst) < n:\n",
        "    x = randint(0, 100)\n",
        "    if x not in lst:\n",
        "        lst.append(x)\n",
        "\n",
        "print(\"Danh sách ngẫu nhiên (không trùng):\", lst)"
      ],
      "metadata": {
        "id": "UyzA9_LbjRzn",
        "outputId": "7ca67235-85fe-4984-ca8d-59c7915a98cb",
        "colab": {
          "base_uri": "https://localhost:8080/"
        }
      },
      "execution_count": 9,
      "outputs": [
        {
          "output_type": "stream",
          "name": "stdout",
          "text": [
            "=== NHẬP 1 LIST CÓ N SỐ NGẪU NHIÊN KHÔNG TRÙNG NHAU ===\n",
            "Nhập số phần tử N: 3\n",
            "Danh sách ngẫu nhiên (không trùng): [2, 75, 80]\n"
          ]
        }
      ]
    },
    {
      "cell_type": "code",
      "source": [
        "#Câu 7\n",
        "print(\"=== NHẬP DÃY SỐ TĂNG DẦN ===\")\n",
        "\n",
        "n = int(input(\"Nhập số phần tử N: \"))\n",
        "lst = []\n",
        "\n",
        "for i in range(n):\n",
        "    while True:\n",
        "        x = int(input(f\"Nhập phần tử thứ {i+1}: \"))\n",
        "        if i == 0 or x > lst[-1]:\n",
        "            lst.append(x)\n",
        "            break\n",
        "        else:\n",
        "            print(\"❌ Sai quy tắc! Phải nhập số lớn hơn số trước đó. Nhập lại!\")\n",
        "\n",
        "print(\"Dãy số tăng dần là:\", lst)"
      ],
      "metadata": {
        "id": "dOkbeCbnj7t_",
        "outputId": "12fe9055-e6a2-48fe-ecac-8cadbc72e5b1",
        "colab": {
          "base_uri": "https://localhost:8080/"
        }
      },
      "execution_count": 10,
      "outputs": [
        {
          "output_type": "stream",
          "name": "stdout",
          "text": [
            "=== NHẬP DÃY SỐ TĂNG DẦN ===\n",
            "Nhập số phần tử N: 3\n",
            "Nhập phần tử thứ 1: 2\n",
            "Nhập phần tử thứ 2: 1\n",
            "❌ Sai quy tắc! Phải nhập số lớn hơn số trước đó. Nhập lại!\n",
            "Nhập phần tử thứ 2: 6\n",
            "Nhập phần tử thứ 3: 4\n",
            "❌ Sai quy tắc! Phải nhập số lớn hơn số trước đó. Nhập lại!\n",
            "Nhập phần tử thứ 3: 8\n",
            "Dãy số tăng dần là: [2, 6, 8]\n"
          ]
        }
      ]
    },
    {
      "cell_type": "code",
      "source": [
        "#Câu 8\n",
        "print(\"=== SẮP XẾP DÃY SỐ GIẢM DẦN ===\")\n",
        "\n",
        "n = int(input(\"Nhập số phần tử N: \"))\n",
        "M = []\n",
        "\n",
        "for i in range(n):\n",
        "    x = float(input(f\"Nhập số thực M[{i}]: \"))\n",
        "    M.append(x)\n",
        "\n",
        "print(\"Dãy ban đầu:\", M)\n",
        "\n",
        "M.sort(reverse=True)\n",
        "print(\"Dãy sau khi sắp xếp giảm dần:\", M)"
      ],
      "metadata": {
        "id": "rMyOEogLkO1k",
        "outputId": "9275af4b-1ccf-40ca-d83a-4fb815ab1e45",
        "colab": {
          "base_uri": "https://localhost:8080/"
        }
      },
      "execution_count": 11,
      "outputs": [
        {
          "output_type": "stream",
          "name": "stdout",
          "text": [
            "=== SẮP XẾP DÃY SỐ GIẢM DẦN ===\n",
            "Nhập số phần tử N: 4\n",
            "Nhập số thực M[0]: 2\n",
            "Nhập số thực M[1]: 1\n",
            "Nhập số thực M[2]: 4\n",
            "Nhập số thực M[3]: 5\n",
            "Dãy ban đầu: [2.0, 1.0, 4.0, 5.0]\n",
            "Dãy sau khi sắp xếp giảm dần: [5.0, 4.0, 2.0, 1.0]\n"
          ]
        }
      ]
    },
    {
      "cell_type": "code",
      "source": [
        "#Câu 9\n",
        "print(\"=== XỬ LÝ MẢNG SỐ TỰ NHIÊN ===\")\n",
        "\n",
        "\n",
        "M = [3, 6, 7, 8, 11, 17, 2, 90, 2, 5, 4, 5, 8]\n",
        "print(\"Mảng M =\", M)\n",
        "\n",
        "Le = [x for x in M if x % 2 != 0]\n",
        "print(\"Các số lẻ:\", Le, \"→ Có\", len(Le), \"số lẻ\")\n",
        "\n",
        "\n",
        "Chan = [x for x in M if x % 2 == 0]\n",
        "print(\"Các số chẵn:\", Chan, \"→ Có\", len(Chan), \"số chẵn\")\n",
        "\n",
        "\n",
        "def LaNguyenTo(n):\n",
        "    if n < 2:\n",
        "        return False\n",
        "    for i in range(2, int(n**0.5) + 1):\n",
        "        if n % i == 0:\n",
        "            return False\n",
        "    return True\n",
        "\n",
        "NguyenTo = [x for x in M if LaNguyenTo(x)]\n",
        "print(\"Các số nguyên tố:\", NguyenTo)\n",
        "\n",
        "\n",
        "KhongNguyenTo = [x for x in M if not LaNguyenTo(x)]\n",
        "print(\"Các số không phải nguyên tố:\", KhongNguyenTo)"
      ],
      "metadata": {
        "id": "LiXOfI9qkbKb",
        "outputId": "b4d0a66d-f2a4-4166-f54d-fd98f837149f",
        "colab": {
          "base_uri": "https://localhost:8080/"
        }
      },
      "execution_count": 13,
      "outputs": [
        {
          "output_type": "stream",
          "name": "stdout",
          "text": [
            "=== XỬ LÝ MẢNG SỐ TỰ NHIÊN ===\n",
            "Mảng M = [3, 6, 7, 8, 11, 17, 2, 90, 2, 5, 4, 5, 8]\n",
            "Các số lẻ: [3, 7, 11, 17, 5, 5] → Có 6 số lẻ\n",
            "Các số chẵn: [6, 8, 2, 90, 2, 4, 8] → Có 7 số chẵn\n",
            "Các số nguyên tố: [3, 7, 11, 17, 2, 2, 5, 5]\n",
            "Các số không phải nguyên tố: [6, 8, 90, 4, 8]\n"
          ]
        }
      ]
    },
    {
      "cell_type": "code",
      "source": [
        "#Câu 10\n",
        "print(\"=== XỬ LÝ MA TRẬN ===\")\n",
        "\n",
        "def NhapMaTran(ten):\n",
        "    m = int(input(f\"Nhập số dòng của ma trận {ten}: \"))\n",
        "    n = int(input(f\"Nhập số cột của ma trận {ten}: \"))\n",
        "    M = []\n",
        "    print(f\"Nhập các phần tử cho ma trận {ten}:\")\n",
        "    for i in range(m):\n",
        "        row = []\n",
        "        for j in range(n):\n",
        "            x = int(input(f\"{ten}[{i}][{j}] = \"))\n",
        "            row.append(x)\n",
        "        M.append(row)\n",
        "    return M\n",
        "\n",
        "\n",
        "def XuatMaTran(M, ten):\n",
        "    print(f\"\\nMa trận {ten}:\")\n",
        "    for row in M:\n",
        "        for x in row:\n",
        "            print(x, end=\"\\t\")\n",
        "        print()\n",
        "\n",
        "def CongMaTran(A, B):\n",
        "    m = len(A)\n",
        "    n = len(A[0])\n",
        "    C = []\n",
        "    for i in range(m):\n",
        "        row = []\n",
        "        for j in range(n):\n",
        "            row.append(A[i][j] + B[i][j])\n",
        "        C.append(row)\n",
        "    return C\n",
        "\n",
        "def HoanVi(M):\n",
        "    m = len(M)\n",
        "    n = len(M[0])\n",
        "    T = []\n",
        "    for j in range(n):\n",
        "        row = []\n",
        "        for i in range(m):\n",
        "            row.append(M[i][j])\n",
        "        T.append(row)\n",
        "    return T\n",
        "\n",
        "A = NhapMaTran(\"A\")\n",
        "B = NhapMaTran(\"B\")\n",
        "\n",
        "XuatMaTran(A, \"A\")\n",
        "XuatMaTran(B, \"B\")\n",
        "\n",
        "C = CongMaTran(A, B)\n",
        "XuatMaTran(C, \"A + B\")\n",
        "\n",
        "\n",
        "TA = HoanVi(A)\n",
        "TB = HoanVi(B)\n",
        "XuatMaTran(TA, \"Aᵀ (hoán vị của A)\")\n",
        "XuatMaTran(TB, \"Bᵀ (hoán vị của B)\")"
      ],
      "metadata": {
        "id": "0rF7l8iMkrNR",
        "outputId": "7f1049fb-13f7-4159-fa4d-c1b98494336b",
        "colab": {
          "base_uri": "https://localhost:8080/"
        }
      },
      "execution_count": 16,
      "outputs": [
        {
          "output_type": "stream",
          "name": "stdout",
          "text": [
            "=== XỬ LÝ MA TRẬN ===\n",
            "Nhập số dòng của ma trận A: 2\n",
            "Nhập số cột của ma trận A: 3\n",
            "Nhập các phần tử cho ma trận A:\n",
            "A[0][0] = 1\n",
            "A[0][1] = 2\n",
            "A[0][2] = 3\n",
            "A[1][0] = 4\n",
            "A[1][1] = 5\n",
            "A[1][2] = 6\n",
            "Nhập số dòng của ma trận B: 2\n",
            "Nhập số cột của ma trận B: 3\n",
            "Nhập các phần tử cho ma trận B:\n",
            "B[0][0] = 7\n",
            "B[0][1] = 8\n",
            "B[0][2] = 9\n",
            "B[1][0] = 1\n",
            "B[1][1] = 2\n",
            "B[1][2] = 4\n",
            "\n",
            "Ma trận A:\n",
            "1\t2\t3\t\n",
            "4\t5\t6\t\n",
            "\n",
            "Ma trận B:\n",
            "7\t8\t9\t\n",
            "1\t2\t4\t\n",
            "\n",
            "Ma trận A + B:\n",
            "8\t10\t12\t\n",
            "5\t7\t10\t\n",
            "\n",
            "Ma trận Aᵀ (hoán vị của A):\n",
            "1\t4\t\n",
            "2\t5\t\n",
            "3\t6\t\n",
            "\n",
            "Ma trận Bᵀ (hoán vị của B):\n",
            "7\t1\t\n",
            "8\t2\t\n",
            "9\t4\t\n"
          ]
        }
      ]
    }
  ],
  "metadata": {
    "colab": {
      "name": "Chào mừng bạn đến với Colab",
      "provenance": [],
      "include_colab_link": true
    },
    "kernelspec": {
      "display_name": "Python 3",
      "name": "python3"
    }
  },
  "nbformat": 4,
  "nbformat_minor": 0
}