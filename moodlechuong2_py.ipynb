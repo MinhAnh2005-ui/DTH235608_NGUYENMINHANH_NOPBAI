{
  "nbformat": 4,
  "nbformat_minor": 0,
  "metadata": {
    "colab": {
      "provenance": [],
      "include_colab_link": true
    },
    "kernelspec": {
      "name": "python3",
      "display_name": "Python 3"
    },
    "language_info": {
      "name": "python"
    }
  },
  "cells": [
    {
      "cell_type": "markdown",
      "metadata": {
        "id": "view-in-github",
        "colab_type": "text"
      },
      "source": [
        "<a href=\"https://colab.research.google.com/github/MinhAnh2005-ui/DTH235608_NGUYENMINHANH_NOPBAI/blob/master/moodlechuong2_py.ipynb\" target=\"_parent\"><img src=\"https://colab.research.google.com/assets/colab-badge.svg\" alt=\"Open In Colab\"/></a>"
      ]
    },
    {
      "cell_type": "code",
      "execution_count": null,
      "metadata": {
        "id": "qbU6bOTFnkUB",
        "colab": {
          "base_uri": "https://localhost:8080/"
        },
        "outputId": "49e6894c-9da6-4856-ff5b-ef820277a53b"
      },
      "outputs": [
        {
          "output_type": "stream",
          "name": "stdout",
          "text": [
            "Mời bạn nhập bán kính hình tròn:12\n",
            "Chu vi = 75.39822368615503\n",
            "Diện tích= 144.0\n"
          ]
        }
      ],
      "source": [
        "#Câu 1\n",
        "import math\n",
        "try:\n",
        "   r=float(input(\"Mời bạn nhập bán kính hình tròn:\"))\n",
        "   cv=2*math.pi*r\n",
        "   dt=r**2\n",
        "   print(\"Chu vi =\",cv)\n",
        "   print(\"Diện tích=\",dt)\n",
        "except:\n",
        "   print(\"Lỗi rồi!\")"
      ]
    },
    {
      "cell_type": "code",
      "source": [
        "#Câu 2\n",
        "t=int(input(\"Nhập số giây:\"))\n",
        "hour=(t//3600)%24\n",
        "minute=(t%3600)//60\n",
        "second=(t%3600)%60\n",
        "print(hour,\":\",minute,\":\",second)"
      ],
      "metadata": {
        "colab": {
          "base_uri": "https://localhost:8080/"
        },
        "id": "2xUr4rE3q1EL",
        "outputId": "3f3d676e-f163-43f3-fd38-1f44d20abc76"
      },
      "execution_count": null,
      "outputs": [
        {
          "output_type": "stream",
          "name": "stdout",
          "text": [
            "Nhập số giây:3750\n",
            "1 : 2 : 30\n"
          ]
        }
      ]
    },
    {
      "cell_type": "code",
      "source": [
        "#Câu 3\n",
        "toan=float(input(\"Nhập điểm Toán:\"))\n",
        "ly=float(input(\"Nhập điểm lý:\"))\n",
        "hoa=float(input(\"Nhập điểm hóa:\"))\n",
        "dtb=(toan+ly+hoa)/3\n",
        "print(\"Điểm trung bình=\",dtb)\n",
        "print(\"Điểm trung bình=\",round(dtb,2))"
      ],
      "metadata": {
        "colab": {
          "base_uri": "https://localhost:8080/"
        },
        "id": "sB7NVj2KroSg",
        "outputId": "0ab7a8bd-fdbf-4cdd-f912-b1d865f29af4"
      },
      "execution_count": null,
      "outputs": [
        {
          "output_type": "stream",
          "name": "stdout",
          "text": [
            "Nhập điểm Toán:10\n",
            "Nhập điểm lý:9\n",
            "Nhập điểm hóa:5\n",
            "Điểm trung bình= 8.0\n",
            "Điểm trung bình= 8.0\n"
          ]
        }
      ]
    },
    {
      "cell_type": "code",
      "source": [
        "#Câu 4\n",
        "# int: số nguyên\n",
        "a = 10\n",
        "print(\"Kiểu int:\", a, type(a))\n",
        "\n",
        "# float: số thực\n",
        "b = 3.14\n",
        "print(\"Kiểu float:\", b, type(b))\n",
        "\n",
        "# bool: giá trị logic\n",
        "c = True\n",
        "print(\"Kiểu bool:\", c, type(c))\n",
        "\n",
        "# str: chuỗi\n",
        "d = \"Hello\"\n",
        "print(\"Kiểu str:\", d, type(d))\n",
        "\n",
        "# list: danh sách\n",
        "e = [1, 2, 3]\n",
        "print(\"Kiểu list:\", e, type(e))\n",
        "\n",
        "# tuple: bộ giá trị\n",
        "f = (1, 2, 3)\n",
        "print(\"Kiểu tuple:\", f, type(f))\n",
        "\n",
        "# dict: từ điển\n",
        "g = {\"name\": \"An\", \"age\": 20}\n",
        "print(\"Kiểu dict:\", g, type(g))\n",
        "\n",
        "# set: tập hợp\n",
        "h = {1, 2, 3}\n",
        "print(\"Kiểu set:\", h, type(h))"
      ],
      "metadata": {
        "colab": {
          "base_uri": "https://localhost:8080/"
        },
        "id": "IxgiRBJksG8v",
        "outputId": "1b3cf5a8-027b-4b53-ca59-b02b20c58a23"
      },
      "execution_count": null,
      "outputs": [
        {
          "output_type": "stream",
          "name": "stdout",
          "text": [
            "Kiểu int: 10 <class 'int'>\n",
            "Kiểu float: 3.14 <class 'float'>\n",
            "Kiểu bool: True <class 'bool'>\n",
            "Kiểu str: Hello <class 'str'>\n",
            "Kiểu list: [1, 2, 3] <class 'list'>\n",
            "Kiểu tuple: (1, 2, 3) <class 'tuple'>\n",
            "Kiểu dict: {'name': 'An', 'age': 20} <class 'dict'>\n",
            "Kiểu set: {1, 2, 3} <class 'set'>\n"
          ]
        }
      ]
    },
    {
      "cell_type": "code",
      "source": [
        "#Câu 5\n",
        "# Đây là ghi chú một dòng\n",
        "'''\n",
        "Đây là ghi chú\n",
        "nhiều dòng\n",
        "'''"
      ],
      "metadata": {
        "colab": {
          "base_uri": "https://localhost:8080/",
          "height": 36
        },
        "id": "jaIMA0oHtBtg",
        "outputId": "a7f33072-eac8-44b3-ed7c-31b0ad6c789b"
      },
      "execution_count": null,
      "outputs": [
        {
          "output_type": "execute_result",
          "data": {
            "text/plain": [
              "'\\nĐây là ghi chú\\nnhiều dòng\\n'"
            ],
            "application/vnd.google.colaboratory.intrinsic+json": {
              "type": "string"
            }
          },
          "metadata": {},
          "execution_count": 16
        }
      ]
    },
    {
      "cell_type": "code",
      "source": [
        "#Câu 6\n",
        "#/ : chia thực (kết quả float) → 5 / 2 = 2.5\n",
        "#// : chia lấy phần nguyên → 5 // 2 = 2\n",
        "#% : chia lấy dư → 5 % 2 = 1\n",
        "#** : lũy thừa → 2 ** 3 = 8\n",
        "#and : toán tử logic và → (True and False) = False\n",
        "#or : toán tử logic hoặc → (True or False) = True\n",
        "#is : so sánh địa chỉ ô nhớ (dùng để kiểm tra hai biến có cùng tham chiếu không)\n",
        "a = [1,2]\n",
        "b = a\n",
        "print(a is b)   # True"
      ],
      "metadata": {
        "colab": {
          "base_uri": "https://localhost:8080/"
        },
        "id": "M7BZ-sjktgLe",
        "outputId": "3e4cd48d-f638-4179-d30d-1418f7ea11a6"
      },
      "execution_count": null,
      "outputs": [
        {
          "output_type": "stream",
          "name": "stdout",
          "text": [
            "True\n"
          ]
        }
      ]
    },
    {
      "cell_type": "code",
      "source": [
        "#Câu 7\n",
        "ten = input(\"Nhập tên: \")\n",
        "x = int(input(\"Nhập số nguyên: \"))\n",
        "y = float(input(\"Nhập số thực: \"))"
      ],
      "metadata": {
        "colab": {
          "base_uri": "https://localhost:8080/"
        },
        "id": "j8YLUc3NuQXS",
        "outputId": "5520d981-a6aa-422a-c383-c2beac5ed810"
      },
      "execution_count": null,
      "outputs": [
        {
          "name": "stdout",
          "output_type": "stream",
          "text": [
            "Nhập tên: MinhAnh\n",
            "Nhập số nguyên: 19\n",
            "Nhập số thực: 12.5\n"
          ]
        }
      ]
    },
    {
      "cell_type": "code",
      "source": [
        "#Câu 8\n",
        "#Các loại lỗi thường gặp:\n",
        "'''\n",
        "1.Lỗi cú pháp (SyntaxError): viết sai cú pháp Python\n",
        "→ ví dụ: print(\"Hello\" (thiếu dấu ngoặc)\n",
        "2.Lỗi logic: chương trình chạy được nhưng sai kết quả\n",
        "→ ví dụ: tính diện tích hình tròn nhưng quên nhân π.\n",
        "3.Lỗi khi chạy (RuntimeError): lỗi xảy ra khi đang chạy\n",
        "→ ví dụ: chia cho 0.\n",
        "'''\n",
        "#Cách bắt lỗi: dùng try … except\n",
        "try:\n",
        "    x = int(input(\"Nhập số: \"))\n",
        "    kq = 10 / x\n",
        "    print(kq)\n",
        "except:\n",
        "    print(\"Có lỗi xảy ra!\")"
      ],
      "metadata": {
        "colab": {
          "base_uri": "https://localhost:8080/"
        },
        "id": "KM28bXoAun25",
        "outputId": "3eb23a92-32ec-475a-9155-fa0a470fa1c1"
      },
      "execution_count": null,
      "outputs": [
        {
          "output_type": "stream",
          "name": "stdout",
          "text": [
            "Nhập số: 10\n",
            "1.0\n"
          ]
        }
      ]
    },
    {
      "cell_type": "code",
      "source": [
        "#Câu 9#\n",
        "\n",
        "i1 = 2\n",
        "i2 = 5\n",
        "i3 = -3\n",
        "d1 = 2.0\n",
        "d2 = 5.0\n",
        "d3 = -0.5\n",
        "\n",
        "print(\"a =\", i1 + (i2 * i3))\n",
        "print(\"b =\", i1 * (i2 + i3))\n",
        "print(\"c =\", i1 / (i2 + i3))\n",
        "print(\"d =\", i1 // (i2 + i3))\n",
        "print(\"e =\", i1 / i2 + i3)\n",
        "print(\"f =\", i1 // i2 + i3)\n",
        "print(\"g =\", 3 + 4 + 5 / 3)\n",
        "print(\"h =\", (3 + 4 + 5) / 3)\n",
        "print(\"i =\", (3 + 4 + 5) // 3)\n",
        "print(\"j =\", (3 + 4 + 5) // 3)\n",
        "\n",
        "print(\"k =\", d1 + (d2 * d3))\n",
        "print(\"l =\", d1 + d2 * d3)\n",
        "print(\"m =\", d1 / d2 - d3)\n",
        "print(\"n =\", d1 / (d2 - d3))\n",
        "print(\"o =\", d1 / d2 - d3 / 3)\n",
        "print(\"p =\", (d1 + d2 + d3) / 3)\n",
        "print(\"q =\", d1 + d2 + (d3 / 3))\n",
        "print(\"r =\", 3 * (d1 + d2) * (d1 - d3))"
      ],
      "metadata": {
        "colab": {
          "base_uri": "https://localhost:8080/"
        },
        "id": "EythtGc-vsp8",
        "outputId": "13d9fb29-faa6-4d61-afe9-9718baa5f571"
      },
      "execution_count": null,
      "outputs": [
        {
          "output_type": "stream",
          "name": "stdout",
          "text": [
            "a = -13\n",
            "b = 4\n",
            "c = 1.0\n",
            "d = 1\n",
            "e = -2.6\n",
            "f = -3\n",
            "g = 8.666666666666666\n",
            "h = 4.0\n",
            "i = 4\n",
            "j = 4\n",
            "k = -0.5\n",
            "l = -0.5\n",
            "m = 0.9\n",
            "n = 0.36363636363636365\n",
            "o = 0.5666666666666667\n",
            "p = 2.1666666666666665\n",
            "q = 6.833333333333333\n",
            "r = 52.5\n"
          ]
        }
      ]
    },
    {
      "cell_type": "code",
      "source": [
        "#Câu 10\n",
        "# Khai báo giá trị ban đầu để test\n",
        "x = 10\n",
        "y = 3\n",
        "ncc = 4\n",
        "number_of_closed_cases = 5\n",
        "\n",
        "print(\"Giá trị ban đầu:\")\n",
        "print(\"x =\", x, \", y =\", y, \", ncc =\", ncc, \", number_of_closed_cases =\", number_of_closed_cases)\n",
        "\n",
        "# (a) x = x + 1\n",
        "x += 1\n",
        "print(\"Sau (a) x += 1:\", x)\n",
        "\n",
        "# (b) x = x / 2\n",
        "x /= 2\n",
        "print(\"Sau (b) x /= 2:\", x)\n",
        "\n",
        "# (c) x = x - 1\n",
        "x -= 1\n",
        "print(\"Sau (c) x -= 1:\", x)\n",
        "\n",
        "# (d) x = x + y\n",
        "x += y\n",
        "print(\"Sau (d) x += y:\", x)\n",
        "\n",
        "# (e) x = x - (y + 7)\n",
        "x -= (y + 7)\n",
        "print(\"Sau (e) x -= (y + 7):\", x)\n",
        "\n",
        "# (f) x = 2 * x\n",
        "x *= 2\n",
        "print(\"Sau (f) x *= 2:\", x)\n",
        "\n",
        "# (g) number_of_closed_cases = number_of_closed_cases + 2 * ncc\n",
        "number_of_closed_cases += 2 * ncc\n",
        "print(\"Sau (g) number_of_closed_cases += 2 * ncc:\", number_of_closed_cases)"
      ],
      "metadata": {
        "colab": {
          "base_uri": "https://localhost:8080/"
        },
        "id": "Fleh4mM9wedZ",
        "outputId": "33dbd2f0-0eb0-497a-9554-be0071e7634e"
      },
      "execution_count": null,
      "outputs": [
        {
          "output_type": "stream",
          "name": "stdout",
          "text": [
            "Giá trị ban đầu:\n",
            "x = 10 , y = 3 , ncc = 4 , number_of_closed_cases = 5\n",
            "Sau (a) x += 1: 11\n",
            "Sau (b) x /= 2: 5.5\n",
            "Sau (c) x -= 1: 4.5\n",
            "Sau (d) x += y: 7.5\n",
            "Sau (e) x -= (y + 7): -2.5\n",
            "Sau (f) x *= 2: -5.0\n",
            "Sau (g) number_of_closed_cases += 2 * ncc: 13\n"
          ]
        }
      ]
    }
  ]
}