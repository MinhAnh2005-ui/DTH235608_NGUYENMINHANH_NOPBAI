{
  "nbformat": 4,
  "nbformat_minor": 0,
  "metadata": {
    "colab": {
      "provenance": [],
      "authorship_tag": "ABX9TyMwfxt+YHNJLk6/8XS8wxOp",
      "include_colab_link": true
    },
    "kernelspec": {
      "name": "python3",
      "display_name": "Python 3"
    },
    "language_info": {
      "name": "python"
    }
  },
  "cells": [
    {
      "cell_type": "markdown",
      "metadata": {
        "id": "view-in-github",
        "colab_type": "text"
      },
      "source": [
        "<a href=\"https://colab.research.google.com/github/MinhAnh2005-ui/DTH235608_NGUYENMINHANH_NOPBAI/blob/master/Baitapchuong3_py.ipynb\" target=\"_parent\"><img src=\"https://colab.research.google.com/assets/colab-badge.svg\" alt=\"Open In Colab\"/></a>"
      ]
    },
    {
      "cell_type": "code",
      "source": [
        "#Câu 1\n",
        "print(\"Chương trình kiểm tra năm nhuận\")\n",
        "year = int(input(\"Mời Thím nhập vào năm: \"))\n",
        "\n",
        "if (year % 4 == 0 and year % 100 != 0) or (year % 400 == 0):\n",
        "    print(\"Năm\", year, \"là năm nhuận\")\n",
        "else:\n",
        "    print(\"Năm\", year, \"không phải năm nhuận\")"
      ],
      "metadata": {
        "colab": {
          "base_uri": "https://localhost:8080/"
        },
        "id": "GFqVTI-Ufp60",
        "outputId": "09af23f3-73d0-4da3-aaba-25838404ffbb"
      },
      "execution_count": null,
      "outputs": [
        {
          "output_type": "stream",
          "name": "stdout",
          "text": [
            "Chương trình kiểm tra năm nhuận\n",
            "Mời Thím nhập vào năm: 2020\n",
            "Năm 2020 là năm nhuận\n"
          ]
        }
      ]
    },
    {
      "cell_type": "code",
      "source": [
        "#Câu 2\n",
        "print(\"Chương trình đếm số ngày trong tháng\")\n",
        "\n",
        "month = int(input(\"Nhập vào 1 tháng (1-12): \"))\n",
        "\n",
        "if month in (1, 3, 5, 7, 8, 10, 12):\n",
        "    print(\"Tháng\", month, \"có 31 ngày\")\n",
        "elif month in (4, 6, 9, 11):\n",
        "    print(\"Tháng\", month, \"có 30 ngày\")\n",
        "elif month == 2:\n",
        "    year = int(input(\"Mời bạn nhập vào năm: \"))\n",
        "    if (year % 4 == 0 and year % 100 != 0) or (year % 400 == 0):\n",
        "        print(\"Tháng 2 có 29 ngày (năm nhuận)\")\n",
        "    else:\n",
        "        print(\"Tháng 2 có 28 ngày (năm không nhuận)\")\n",
        "else:\n",
        "    print(\"Tháng\", month, \"không hợp lệ\")"
      ],
      "metadata": {
        "colab": {
          "base_uri": "https://localhost:8080/"
        },
        "id": "qynTyQpWgpT-",
        "outputId": "61ee2a1c-53b4-44a3-b531-d4820af53c59"
      },
      "execution_count": null,
      "outputs": [
        {
          "output_type": "stream",
          "name": "stdout",
          "text": [
            "Chương trình đếm số ngày trong tháng\n",
            "Nhập vào 1 tháng (1-12): 12\n",
            "Tháng 12 có 31 ngày\n"
          ]
        }
      ]
    },
    {
      "cell_type": "code",
      "source": [
        "#Câu 3\n",
        "from math import sqrt\n",
        "\n",
        "print(\"Chương trình Giải Phương trình bậc 2\")\n",
        "a = float(input(\"Nhập a: \"))\n",
        "b = float(input(\"Nhập b: \"))\n",
        "c = float(input(\"Nhập c: \"))\n",
        "\n",
        "if a == 0:\n",
        "    # bx + c = 0\n",
        "    if b == 0 and c == 0:\n",
        "        print(\"Phương trình có vô số nghiệm\")\n",
        "    elif b == 0 and c != 0:\n",
        "        print(\"Phương trình vô nghiệm\")\n",
        "    else:\n",
        "        x = -c / b\n",
        "        print(\"Phương trình có nghiệm duy nhất x =\", x)\n",
        "else:\n",
        "    delta = b**2 - 4*a*c\n",
        "    if delta < 0:\n",
        "        print(\"Phương trình vô nghiệm\")\n",
        "    elif delta == 0:\n",
        "        x = -b / (2*a)\n",
        "        print(\"Phương trình có nghiệm kép x1 = x2 =\", x)\n",
        "    else:\n",
        "        x1 = (-b - sqrt(delta)) / (2*a)\n",
        "        x2 = (-b + sqrt(delta)) / (2*a)\n",
        "        print(\"Phương trình có 2 nghiệm phân biệt:\")\n",
        "        print(\"x1 =\", x1)\n",
        "        print(\"x2 =\", x2)"
      ],
      "metadata": {
        "colab": {
          "base_uri": "https://localhost:8080/"
        },
        "id": "EiANsbHmhd4H",
        "outputId": "5d74f976-f7a6-4105-db5f-7afd873e715e"
      },
      "execution_count": null,
      "outputs": [
        {
          "output_type": "stream",
          "name": "stdout",
          "text": [
            "Chương trình Giải Phương trình bậc 2\n",
            "Nhập a: 1\n",
            "Nhập b: 3\n",
            "Nhập c: 1\n",
            "Phương trình có 2 nghiệm phân biệt:\n",
            "x1 = -2.618033988749895\n",
            "x2 = -0.3819660112501051\n"
          ]
        }
      ]
    },
    {
      "cell_type": "code",
      "source": [
        "#Câu 4\n",
        "x = 3\n",
        "y = 5\n",
        "z = 7\n",
        "\n",
        "print(\"a) x == 3:\", x == 3)\n",
        "print(\"b) x < y:\", x < y)\n",
        "print(\"c) x >= y:\", x >= y)\n",
        "print(\"d) x <= y:\", x <= y)\n",
        "print(\"e) x != y - 2:\", x != y - 2)\n",
        "print(\"f) x < 10:\", x < 10)\n",
        "print(\"g) x >= 0 and x < 10:\", x >= 0 and x < 10)\n",
        "print(\"h) x < 0 and x < 10:\", x < 0 and x < 10)\n",
        "print(\"i) x >= 0 and x < 2:\", x >= 0 and x < 2)\n",
        "print(\"j) x < 0 or x < 10:\", x < 0 or x < 10)\n",
        "print(\"k) x > 0 or x < 10:\", x > 0 or x < 10)\n",
        "print(\"l) x < 0 or x > 10:\", x < 0 or x > 10)"
      ],
      "metadata": {
        "colab": {
          "base_uri": "https://localhost:8080/"
        },
        "id": "pBAp7cglmslH",
        "outputId": "5312dd3a-099c-472c-bd62-39b9a9a4d06a"
      },
      "execution_count": null,
      "outputs": [
        {
          "output_type": "stream",
          "name": "stdout",
          "text": [
            "a) x == 3: True\n",
            "b) x < y: True\n",
            "c) x >= y: False\n",
            "d) x <= y: True\n",
            "e) x != y - 2: False\n",
            "f) x < 10: True\n",
            "g) x >= 0 and x < 10: True\n",
            "h) x < 0 and x < 10: False\n",
            "i) x >= 0 and x < 2: False\n",
            "j) x < 0 or x < 10: True\n",
            "k) x > 0 or x < 10: True\n",
            "l) x < 0 or x > 10: False\n"
          ]
        }
      ]
    },
    {
      "cell_type": "code",
      "source": [
        "7\n",
        "5#Câu 5\n",
        "i = int(input(\"Nhập i: \"))\n",
        "j = int(input(\"Nhập j: \"))\n",
        "k = int(input(\"Nhập k: \"))\n",
        "\n",
        "if i < j:\n",
        "    if j < k:\n",
        "        i = j\n",
        "    else:\n",
        "        j = k\n",
        "else:\n",
        "    if j > k:\n",
        "        j = i\n",
        "    else:\n",
        "        i = k\n",
        "\n",
        "print(\"i =\", i, \", j =\", j, \", k =\", k)"
      ],
      "metadata": {
        "colab": {
          "base_uri": "https://localhost:8080/"
        },
        "id": "tP_kOAWp-8QU",
        "outputId": "811b4a6e-aa42-4f76-842d-0d55d24aba35"
      },
      "execution_count": null,
      "outputs": [
        {
          "output_type": "stream",
          "name": "stdout",
          "text": [
            "Nhập i: 3\n",
            "Nhập j: 5\n",
            "Nhập k: 7\n",
            "i = 5 , j = 5 , k = 7\n"
          ]
        }
      ]
    },
    {
      "cell_type": "code",
      "source": [
        "#Câu 6\n",
        "print(\"Chương trình đọc số có tối đa 2 chữ số\")\n",
        "n = int(input(\"Nhập số n (0 <= n <= 99): \"))\n",
        "\n",
        "don_vi = [\"\", \"một\", \"hai\", \"ba\", \"bốn\", \"năm\", \"sáu\", \"bảy\", \"tám\", \"chín\"]\n",
        "chuc = [\"\", \"mười\", \"hai mươi\", \"ba mươi\", \"bốn mươi\",\n",
        "        \"năm mươi\", \"sáu mươi\", \"bảy mươi\", \"tám mươi\", \"chín mươi\"]\n",
        "\n",
        "if 0 <= n <= 9:\n",
        "    print(don_vi[n])\n",
        "elif 10 <= n <= 99:\n",
        "    hang_chuc = n // 10\n",
        "    hang_dv = n % 10\n",
        "    if hang_dv == 0:\n",
        "        print(chuc[hang_chuc])\n",
        "    else:\n",
        "        print(chuc[hang_chuc], don_vi[hang_dv])\n",
        "else:\n",
        "    print(\"Số không hợp lệ!\")"
      ],
      "metadata": {
        "colab": {
          "base_uri": "https://localhost:8080/"
        },
        "id": "eyRSyXXL_Xgg",
        "outputId": "e997fbb8-1032-4550-d2a2-43a34cefaef1"
      },
      "execution_count": null,
      "outputs": [
        {
          "output_type": "stream",
          "name": "stdout",
          "text": [
            "Chương trình đọc số có tối đa 2 chữ số\n",
            "Nhập số n (0 <= n <= 99): 9\n",
            "chín\n"
          ]
        }
      ]
    },
    {
      "cell_type": "code",
      "source": [
        "#Câu 7\n",
        "print(\"Chương trình tìm ngày kế tiếp\")\n",
        "\n",
        "day = int(input(\"Nhập ngày: \"))\n",
        "month = int(input(\"Nhập tháng: \"))\n",
        "year = int(input(\"Nhập năm: \"))\n",
        "\n",
        "# số ngày trong từng tháng\n",
        "days_in_month = [31, 28, 31, 30, 31, 30, 31, 31, 30, 31, 30, 31]\n",
        "\n",
        "# kiểm tra năm nhuận\n",
        "if (year % 4 == 0 and year % 100 != 0) or (year % 400 == 0):\n",
        "    days_in_month[1] = 29\n",
        "\n",
        "day += 1\n",
        "if day > days_in_month[month - 1]:\n",
        "    day = 1\n",
        "    month += 1\n",
        "    if month > 12:\n",
        "        month = 1\n",
        "        year += 1\n",
        "\n",
        "print(\"Ngày kế tiếp là: {}/{}/{}\".format(day, month, year))"
      ],
      "metadata": {
        "colab": {
          "base_uri": "https://localhost:8080/"
        },
        "id": "9A0Ef3XwBmwC",
        "outputId": "9f5786e5-fd63-4bb5-8dd9-7581446c5e80"
      },
      "execution_count": null,
      "outputs": [
        {
          "output_type": "stream",
          "name": "stdout",
          "text": [
            "Chương trình tìm ngày kế tiếp\n",
            "Nhập ngày: 19\n",
            "Nhập tháng: 9\n",
            "Nhập năm: 2025\n",
            "Ngày kế tiếp là: 20/9/2025\n"
          ]
        }
      ]
    },
    {
      "cell_type": "code",
      "source": [
        "#Câu 8\n",
        "print(\"Chương trình thực hiện phép toán\")\n",
        "\n",
        "a = float(input(\"Nhập số a: \"))\n",
        "b = float(input(\"Nhập số b: \"))\n",
        "op = input(\"Nhập phép toán (+, -, *, /): \")\n",
        "\n",
        "if op == \"+\":\n",
        "    print(\"Kết quả =\", a + b)\n",
        "elif op == \"-\":\n",
        "    print(\"Kết quả =\", a - b)\n",
        "elif op == \"*\":\n",
        "    print(\"Kết quả =\", a * b)\n",
        "elif op == \"/\":\n",
        "    if b != 0:\n",
        "        print(\"Kết quả =\", a / b)\n",
        "    else:\n",
        "        print(\"Lỗi: Không chia được cho 0\")\n",
        "else:\n",
        "    print(\"Phép toán không hợp lệ\")"
      ],
      "metadata": {
        "id": "DQKtGeqOByMr",
        "colab": {
          "base_uri": "https://localhost:8080/"
        },
        "outputId": "eb5c6050-61e8-4e1a-856b-bebe97f49a20"
      },
      "execution_count": 1,
      "outputs": [
        {
          "output_type": "stream",
          "name": "stdout",
          "text": [
            "Chương trình thực hiện phép toán\n",
            "Nhập số a: 1\n",
            "Nhập số b: 3\n",
            "Nhập phép toán (+, -, *, /): +\n",
            "Kết quả = 4.0\n"
          ]
        }
      ]
    },
    {
      "cell_type": "code",
      "source": [
        "#Câu 9\n",
        "print(\"Chương trình xác định quý của năm\")\n",
        "\n",
        "month = int(input(\"Nhập vào tháng (1-12): \"))\n",
        "\n",
        "if 1 <= month <= 3:\n",
        "    print(\"Tháng\", month, \"thuộc quý 1\")\n",
        "elif 4 <= month <= 6:\n",
        "    print(\"Tháng\", month, \"thuộc quý 2\")\n",
        "elif 7 <= month <= 9:\n",
        "    print(\"Tháng\", month, \"thuộc quý 3\")\n",
        "elif 10 <= month <= 12:\n",
        "    print(\"Tháng\", month, \"thuộc quý 4\")\n",
        "else:\n",
        "    print(\"Tháng không hợp lệ\")"
      ],
      "metadata": {
        "colab": {
          "base_uri": "https://localhost:8080/"
        },
        "id": "S6tjmdUz7TY5",
        "outputId": "c05d163a-4472-434d-bc16-de9dec2ab7ab"
      },
      "execution_count": 2,
      "outputs": [
        {
          "output_type": "stream",
          "name": "stdout",
          "text": [
            "Chương trình xác định quý của năm\n",
            "Nhập vào tháng (1-12): 3\n",
            "Tháng 3 thuộc quý 1\n"
          ]
        }
      ]
    },
    {
      "cell_type": "code",
      "source": [
        "#Câu 10\n",
        "import math\n",
        "\n",
        "print(\"Chương trình tính S(x,n) = x + x^2/2! + x^3/3! + ... + x^n/n!\")\n",
        "\n",
        "x = int(input(\"Nhập x: \"))\n",
        "n = int(input(\"Nhập n: \"))\n",
        "\n",
        "S = 0\n",
        "for i in range(1, n + 1):\n",
        "    S += x**i / math.factorial(i)\n",
        "\n",
        "print(\"S({0}, {1}) = {2}\".format(x, n, S))"
      ],
      "metadata": {
        "colab": {
          "base_uri": "https://localhost:8080/"
        },
        "id": "xIshki-B7af2",
        "outputId": "b682f936-510f-4354-c7ef-10867f9a25b7"
      },
      "execution_count": 3,
      "outputs": [
        {
          "output_type": "stream",
          "name": "stdout",
          "text": [
            "Chương trình tính S(x,n) = x + x^2/2! + x^3/3! + ... + x^n/n!\n",
            "Nhập x: 2\n",
            "Nhập n: 4\n",
            "S(2, 4) = 6.0\n"
          ]
        }
      ]
    },
    {
      "cell_type": "code",
      "source": [
        "#Câu 11\n",
        "print(\"Chương trình kiểm tra số nguyên tố\")\n",
        "\n",
        "while True:\n",
        "    n = int(input(\"Nhập một số nguyên dương: \"))\n",
        "    if n < 2:\n",
        "        print(n, \"không phải số nguyên tố\")\n",
        "    else:\n",
        "        dem = 0\n",
        "        for i in range(1, n + 1):\n",
        "            if n % i == 0:\n",
        "                dem += 1\n",
        "        if dem == 2:\n",
        "            print(n, \"là số nguyên tố\")\n",
        "        else:\n",
        "            print(n, \"không phải số nguyên tố\")\n",
        "\n",
        "    hoi = input(\"Bạn có muốn tiếp tục không? (c/k): \")\n",
        "    if hoi.lower() == \"k\":\n",
        "        break\n",
        "\n",
        "print(\"BYE!\")"
      ],
      "metadata": {
        "colab": {
          "base_uri": "https://localhost:8080/"
        },
        "id": "uN8n15NM7vDr",
        "outputId": "e6a64342-21c3-49ff-8d81-20329e23cb2b"
      },
      "execution_count": 4,
      "outputs": [
        {
          "output_type": "stream",
          "name": "stdout",
          "text": [
            "Chương trình kiểm tra số nguyên tố\n",
            "Nhập một số nguyên dương: 4\n",
            "4 không phải số nguyên tố\n",
            "Bạn có muốn tiếp tục không? (c/k): C\n",
            "Nhập một số nguyên dương: 5\n",
            "5 là số nguyên tố\n",
            "Bạn có muốn tiếp tục không? (c/k): K\n",
            "BYE!\n"
          ]
        }
      ]
    },
    {
      "cell_type": "code",
      "source": [
        "#Câu 12\n",
        "print(\"Bảng cửu chương từ 2 đến 9\\n\")\n",
        "\n",
        "for i in range(1, 11):\n",
        "    for j in range(2, 10):\n",
        "        line = \"{0} * {1:>2} = {2:>2}\".format(j, i, j * i)\n",
        "        print(line, end=\"\\t\")\n",
        "    print()"
      ],
      "metadata": {
        "colab": {
          "base_uri": "https://localhost:8080/"
        },
        "id": "TPv-yYna77E1",
        "outputId": "25f58077-c40c-4650-ef07-1e8de579c019"
      },
      "execution_count": 5,
      "outputs": [
        {
          "output_type": "stream",
          "name": "stdout",
          "text": [
            "Bảng cửu chương từ 2 đến 9\n",
            "\n",
            "2 *  1 =  2\t3 *  1 =  3\t4 *  1 =  4\t5 *  1 =  5\t6 *  1 =  6\t7 *  1 =  7\t8 *  1 =  8\t9 *  1 =  9\t\n",
            "2 *  2 =  4\t3 *  2 =  6\t4 *  2 =  8\t5 *  2 = 10\t6 *  2 = 12\t7 *  2 = 14\t8 *  2 = 16\t9 *  2 = 18\t\n",
            "2 *  3 =  6\t3 *  3 =  9\t4 *  3 = 12\t5 *  3 = 15\t6 *  3 = 18\t7 *  3 = 21\t8 *  3 = 24\t9 *  3 = 27\t\n",
            "2 *  4 =  8\t3 *  4 = 12\t4 *  4 = 16\t5 *  4 = 20\t6 *  4 = 24\t7 *  4 = 28\t8 *  4 = 32\t9 *  4 = 36\t\n",
            "2 *  5 = 10\t3 *  5 = 15\t4 *  5 = 20\t5 *  5 = 25\t6 *  5 = 30\t7 *  5 = 35\t8 *  5 = 40\t9 *  5 = 45\t\n",
            "2 *  6 = 12\t3 *  6 = 18\t4 *  6 = 24\t5 *  6 = 30\t6 *  6 = 36\t7 *  6 = 42\t8 *  6 = 48\t9 *  6 = 54\t\n",
            "2 *  7 = 14\t3 *  7 = 21\t4 *  7 = 28\t5 *  7 = 35\t6 *  7 = 42\t7 *  7 = 49\t8 *  7 = 56\t9 *  7 = 63\t\n",
            "2 *  8 = 16\t3 *  8 = 24\t4 *  8 = 32\t5 *  8 = 40\t6 *  8 = 48\t7 *  8 = 56\t8 *  8 = 64\t9 *  8 = 72\t\n",
            "2 *  9 = 18\t3 *  9 = 27\t4 *  9 = 36\t5 *  9 = 45\t6 *  9 = 54\t7 *  9 = 63\t8 *  9 = 72\t9 *  9 = 81\t\n",
            "2 * 10 = 20\t3 * 10 = 30\t4 * 10 = 40\t5 * 10 = 50\t6 * 10 = 60\t7 * 10 = 70\t8 * 10 = 80\t9 * 10 = 90\t\n"
          ]
        }
      ]
    },
    {
      "cell_type": "code",
      "source": [
        "#Câu 13\n",
        "a = 0\n",
        "while a < 100:\n",
        "    print('*', end='')\n",
        "    a += 1\n",
        "print()"
      ],
      "metadata": {
        "colab": {
          "base_uri": "https://localhost:8080/"
        },
        "id": "LSYLjsr28RBf",
        "outputId": "48b2a967-b191-42cb-b5b8-21b899a8a44d"
      },
      "execution_count": 6,
      "outputs": [
        {
          "output_type": "stream",
          "name": "stdout",
          "text": [
            "****************************************************************************************************\n"
          ]
        }
      ]
    },
    {
      "cell_type": "code",
      "source": [
        "#Câu 14\n",
        "a = 0\n",
        "while a < 100:\n",
        "    b = 0\n",
        "    while b < 40:\n",
        "        if (a + b) % 2 == 0:\n",
        "            print('*', end='')\n",
        "        b += 1\n",
        "    print()\n",
        "    a += 1"
      ],
      "metadata": {
        "colab": {
          "base_uri": "https://localhost:8080/"
        },
        "id": "y0XeVGJC8aXw",
        "outputId": "f0a68091-36b3-4e2b-958a-9aaaffd5a958"
      },
      "execution_count": 7,
      "outputs": [
        {
          "output_type": "stream",
          "name": "stdout",
          "text": [
            "********************\n",
            "********************\n",
            "********************\n",
            "********************\n",
            "********************\n",
            "********************\n",
            "********************\n",
            "********************\n",
            "********************\n",
            "********************\n",
            "********************\n",
            "********************\n",
            "********************\n",
            "********************\n",
            "********************\n",
            "********************\n",
            "********************\n",
            "********************\n",
            "********************\n",
            "********************\n",
            "********************\n",
            "********************\n",
            "********************\n",
            "********************\n",
            "********************\n",
            "********************\n",
            "********************\n",
            "********************\n",
            "********************\n",
            "********************\n",
            "********************\n",
            "********************\n",
            "********************\n",
            "********************\n",
            "********************\n",
            "********************\n",
            "********************\n",
            "********************\n",
            "********************\n",
            "********************\n",
            "********************\n",
            "********************\n",
            "********************\n",
            "********************\n",
            "********************\n",
            "********************\n",
            "********************\n",
            "********************\n",
            "********************\n",
            "********************\n",
            "********************\n",
            "********************\n",
            "********************\n",
            "********************\n",
            "********************\n",
            "********************\n",
            "********************\n",
            "********************\n",
            "********************\n",
            "********************\n",
            "********************\n",
            "********************\n",
            "********************\n",
            "********************\n",
            "********************\n",
            "********************\n",
            "********************\n",
            "********************\n",
            "********************\n",
            "********************\n",
            "********************\n",
            "********************\n",
            "********************\n",
            "********************\n",
            "********************\n",
            "********************\n",
            "********************\n",
            "********************\n",
            "********************\n",
            "********************\n",
            "********************\n",
            "********************\n",
            "********************\n",
            "********************\n",
            "********************\n",
            "********************\n",
            "********************\n",
            "********************\n",
            "********************\n",
            "********************\n",
            "********************\n",
            "********************\n",
            "********************\n",
            "********************\n",
            "********************\n",
            "********************\n",
            "********************\n",
            "********************\n",
            "********************\n",
            "********************\n"
          ]
        }
      ]
    },
    {
      "cell_type": "code",
      "source": [
        "#Câu 15\n",
        "print(\"a) range(5):\", list(range(5)))\n",
        "print(\"b) range(5, 10):\", list(range(5, 10)))\n",
        "print(\"c) range(5, 20, 3):\", list(range(5, 20, 3)))\n",
        "print(\"d) range(20, 5, -1):\", list(range(20, 5, -1)))\n",
        "print(\"e) range(20, 5, -3):\", list(range(20, 5, -3)))\n",
        "print(\"f) range(10, 5):\", list(range(10, 5)))\n",
        "print(\"g) range(0):\", list(range(0)))\n",
        "print(\"h) range(10, 101, 10):\", list(range(10, 101, 10)))\n",
        "print(\"i) range(10, -1, -1):\", list(range(10, -1, -1)))\n",
        "print(\"j) range(-3, 4):\", list(range(-3, 4)))\n",
        "print(\"k) range(0, 10, 1):\", list(range(0, 10, 1)))"
      ],
      "metadata": {
        "colab": {
          "base_uri": "https://localhost:8080/"
        },
        "id": "yPC6CLkg8ocK",
        "outputId": "869fecf2-d359-4af0-d2ec-aac5c6d82684"
      },
      "execution_count": 8,
      "outputs": [
        {
          "output_type": "stream",
          "name": "stdout",
          "text": [
            "a) range(5): [0, 1, 2, 3, 4]\n",
            "b) range(5, 10): [5, 6, 7, 8, 9]\n",
            "c) range(5, 20, 3): [5, 8, 11, 14, 17]\n",
            "d) range(20, 5, -1): [20, 19, 18, 17, 16, 15, 14, 13, 12, 11, 10, 9, 8, 7, 6]\n",
            "e) range(20, 5, -3): [20, 17, 14, 11, 8]\n",
            "f) range(10, 5): []\n",
            "g) range(0): []\n",
            "h) range(10, 101, 10): [10, 20, 30, 40, 50, 60, 70, 80, 90, 100]\n",
            "i) range(10, -1, -1): [10, 9, 8, 7, 6, 5, 4, 3, 2, 1, 0]\n",
            "j) range(-3, 4): [-3, -2, -1, 0, 1, 2, 3]\n",
            "k) range(0, 10, 1): [0, 1, 2, 3, 4, 5, 6, 7, 8, 9]\n"
          ]
        }
      ]
    },
    {
      "cell_type": "code",
      "source": [
        "#Câu 16\n",
        "for a in range(20, 100, 5):\n",
        "    print('*', end='')"
      ],
      "metadata": {
        "colab": {
          "base_uri": "https://localhost:8080/"
        },
        "id": "CxIsqfUy80EK",
        "outputId": "3d4ac4a4-420e-482d-ff8b-7a627ab9d4c3"
      },
      "execution_count": 9,
      "outputs": [
        {
          "output_type": "stream",
          "name": "stdout",
          "text": [
            "****************"
          ]
        }
      ]
    },
    {
      "cell_type": "code",
      "source": [
        "#Câu 17\n",
        "m = 100\n",
        "n = 0\n",
        "\n",
        "while n != m:\n",
        "    n = int(input(\"Nhập n: \"))\n",
        "    if n < 0:\n",
        "        break\n",
        "    print(\"n =\", n)"
      ],
      "metadata": {
        "colab": {
          "base_uri": "https://localhost:8080/"
        },
        "id": "tp2Lhdos85zb",
        "outputId": "72c6c946-b6ee-4e9e-c134-46671d120138"
      },
      "execution_count": 11,
      "outputs": [
        {
          "name": "stdout",
          "output_type": "stream",
          "text": [
            "Nhập n: 3\n",
            "n = 3\n",
            "Nhập n: -1\n"
          ]
        }
      ]
    },
    {
      "cell_type": "code",
      "source": [
        "#Câu 18\n",
        "n = int(input(\"Nhập chiều cao n: \"))\n",
        "\n",
        "print(\"\\nHình 1:\")\n",
        "for i in range(1, n+1):\n",
        "    print(\"* \" * i)\n",
        "\n",
        "print(\"\\nHình 2:\")\n",
        "for i in range(n, 0, -1):\n",
        "    print(\"* \" * i)\n",
        "\n",
        "print(\"\\nHình 3:\")\n",
        "for i in range(1, n+1):\n",
        "    print(\"  \" * (n - i) + \"* \" * i)\n",
        "\n",
        "print(\"\\nHình 4:\")\n",
        "for i in range(n, 0, -1):\n",
        "    print(\"  \" * (n - i) + \"* \" * i)"
      ],
      "metadata": {
        "colab": {
          "base_uri": "https://localhost:8080/"
        },
        "id": "PdgO1BOX9Oqd",
        "outputId": "7016f6e5-1870-49c5-91ce-35182e1be05a"
      },
      "execution_count": 12,
      "outputs": [
        {
          "output_type": "stream",
          "name": "stdout",
          "text": [
            "Nhập chiều cao n: 4\n",
            "\n",
            "Hình 1:\n",
            "* \n",
            "* * \n",
            "* * * \n",
            "* * * * \n",
            "\n",
            "Hình 2:\n",
            "* * * * \n",
            "* * * \n",
            "* * \n",
            "* \n",
            "\n",
            "Hình 3:\n",
            "      * \n",
            "    * * \n",
            "  * * * \n",
            "* * * * \n",
            "\n",
            "Hình 4:\n",
            "* * * * \n",
            "  * * * \n",
            "    * * \n",
            "      * \n"
          ]
        }
      ]
    },
    {
      "cell_type": "code",
      "source": [
        "#Câu 19\n",
        "import math\n",
        "\n",
        "x = float(input(\"Nhập x: \"))\n",
        "n = int(input(\"Nhập n: \"))\n",
        "\n",
        "S = 0\n",
        "for i in range(n+1):  # i chạy từ 0 đến n\n",
        "    S += x**(2*i+1) / math.factorial(2*i+1)\n",
        "\n",
        "print(\"S(x,n) =\", S)"
      ],
      "metadata": {
        "colab": {
          "base_uri": "https://localhost:8080/"
        },
        "id": "AFzoy-WB9kw-",
        "outputId": "d08a604b-bd1b-4440-f5f7-c9db586c404f"
      },
      "execution_count": 13,
      "outputs": [
        {
          "output_type": "stream",
          "name": "stdout",
          "text": [
            "Nhập x: 5\n",
            "Nhập n: 3\n",
            "S(x,n) = 67.37599206349206\n"
          ]
        }
      ]
    }
  ]
}