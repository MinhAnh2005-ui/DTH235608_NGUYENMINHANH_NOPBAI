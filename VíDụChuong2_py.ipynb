{
  "nbformat": 4,
  "nbformat_minor": 0,
  "metadata": {
    "colab": {
      "provenance": [],
      "authorship_tag": "ABX9TyPAOoXPqV6S17/c5LRUtGsj",
      "include_colab_link": true
    },
    "kernelspec": {
      "name": "python3",
      "display_name": "Python 3"
    },
    "language_info": {
      "name": "python"
    }
  },
  "cells": [
    {
      "cell_type": "markdown",
      "metadata": {
        "id": "view-in-github",
        "colab_type": "text"
      },
      "source": [
        "<a href=\"https://colab.research.google.com/github/MinhAnh2005-ui/DTH235608_NGUYENMINHANH_NOPBAI/blob/master/V%C3%ADD%E1%BB%A5Chuong2_py.ipynb\" target=\"_parent\"><img src=\"https://colab.research.google.com/assets/colab-badge.svg\" alt=\"Open In Colab\"/></a>"
      ]
    },
    {
      "cell_type": "code",
      "execution_count": 1,
      "metadata": {
        "colab": {
          "base_uri": "https://localhost:8080/"
        },
        "id": "3zMTI489sVCP",
        "outputId": "720d8278-351f-4d38-fdcd-c091b7511651"
      },
      "outputs": [
        {
          "output_type": "stream",
          "name": "stdout",
          "text": [
            "Giá trị biến x: Giáo trình Python\n",
            "Địa chỉ ô nhớ x: 137307242604672\n",
            "Giá trị biến x: Đã thay đổi giá trị x\n",
            "Địa chỉ ô nhớ x: 137307242926384\n"
          ]
        }
      ],
      "source": [
        "#Ví Dụ 2.1.1\n",
        "x = \"Giáo trình Python\"\n",
        "print(\"Giá trị biến x:\", x)\n",
        "print(\"Địa chỉ ô nhớ x:\", id(x))\n",
        "\n",
        "x = \"Đã thay đổi giá trị x\"\n",
        "print(\"Giá trị biến x:\", x)\n",
        "print(\"Địa chỉ ô nhớ x:\", id(x))"
      ]
    },
    {
      "cell_type": "code",
      "source": [
        "#Ví Dụ 2.1.1\n",
        "x, y = 3, 5\n",
        "tmp = x\n",
        "x = y\n",
        "y = tmp\n",
        "\n",
        "print(\"x =\", x)\n",
        "print(\"y =\", y)"
      ],
      "metadata": {
        "colab": {
          "base_uri": "https://localhost:8080/"
        },
        "id": "iVvDg7x5tQO6",
        "outputId": "352c19e9-9cb3-4584-f0ed-25643de89c39"
      },
      "execution_count": 2,
      "outputs": [
        {
          "output_type": "stream",
          "name": "stdout",
          "text": [
            "x = 5\n",
            "y = 3\n"
          ]
        }
      ]
    },
    {
      "cell_type": "code",
      "source": [
        "#Ví Dụ 2.1.2\n",
        "# Khai báo và gán giá trị số nguyên bằng 49 cho biến siso\n",
        "siso = 40\n",
        "\n",
        "# Hiển thị giá trị biến siso ra màn hình\n",
        "print(\"Sĩ số lớp =\", siso)\n",
        "\n",
        "# Hiển thị kiểu dữ liệu của biến siso\n",
        "print(type(siso))"
      ],
      "metadata": {
        "colab": {
          "base_uri": "https://localhost:8080/"
        },
        "id": "Dk0_eoNzCOk2",
        "outputId": "a1d34166-c3cc-4e2f-c3b2-9fdc875e4504"
      },
      "execution_count": 3,
      "outputs": [
        {
          "output_type": "stream",
          "name": "stdout",
          "text": [
            "Sĩ số lớp = 40\n",
            "<class 'int'>\n"
          ]
        }
      ]
    },
    {
      "cell_type": "code",
      "source": [
        "#Ví Dụ 2.1.2\n",
        "# Khai báo và gán giá trị số thực bằng 6.5 cho biến diemt oan\n",
        "diemtoan = 6.5\n",
        "\n",
        "# Hiển thị giá trị biến diemt oan ra màn hình\n",
        "print(\"Điểm thi =\", diemtoan)\n",
        "\n",
        "# Hiển thị kiểu dữ liệu của biến diemt oan\n",
        "print(type(diemtoan))"
      ],
      "metadata": {
        "colab": {
          "base_uri": "https://localhost:8080/"
        },
        "id": "0RVWOhknC7-x",
        "outputId": "c4b313ac-f8a6-4602-c64d-a88faf21434f"
      },
      "execution_count": 4,
      "outputs": [
        {
          "output_type": "stream",
          "name": "stdout",
          "text": [
            "Điểm thi = 6.5\n",
            "<class 'float'>\n"
          ]
        }
      ]
    },
    {
      "cell_type": "code",
      "source": [
        "#Ví Dụ 2.1.2\n",
        "# Khai báo hằng số PI\n",
        "PI = 3.14159\n",
        "\n",
        "print(\"Giá trị hằng số PI =\", PI)"
      ],
      "metadata": {
        "colab": {
          "base_uri": "https://localhost:8080/"
        },
        "id": "ppwwtu9YDY2Y",
        "outputId": "7c028a41-9752-4bf0-d7ab-c8bc867a7b43"
      },
      "execution_count": 5,
      "outputs": [
        {
          "output_type": "stream",
          "name": "stdout",
          "text": [
            "Giá trị hằng số PI = 3.14159\n"
          ]
        }
      ]
    },
    {
      "cell_type": "code",
      "source": [
        "#Ví dụ 2.1.2\n",
        "str_var = \"Trường Đại học An Giang\"\n",
        "n = 100\n",
        "HeSoLuong = 2.34\n",
        "\n",
        "print(\"Kiểu dữ liệu của biến str_var là\", type(str_var))\n",
        "print(\"Kiểu dữ liệu của biến n là\", type(n))\n",
        "print(\"Kiểu dữ liệu của biến HeSoLuong là\", type(HeSoLuong))\n",
        "print(\"Kiểu dữ liệu của phép toán so sánh 1 > 0 là\", type(1 > 0))"
      ],
      "metadata": {
        "colab": {
          "base_uri": "https://localhost:8080/"
        },
        "id": "Re41YaszDc5V",
        "outputId": "744aa1e0-d79c-4347-a584-04c9a93c6d84"
      },
      "execution_count": 6,
      "outputs": [
        {
          "output_type": "stream",
          "name": "stdout",
          "text": [
            "Kiểu dữ liệu của biến str_var là <class 'str'>\n",
            "Kiểu dữ liệu của biến n là <class 'int'>\n",
            "Kiểu dữ liệu của biến HeSoLuong là <class 'float'>\n",
            "Kiểu dữ liệu của phép toán so sánh 1 > 0 là <class 'bool'>\n"
          ]
        }
      ]
    },
    {
      "cell_type": "code",
      "source": [
        "#Ví Dụ 2.1.2\n",
        "s = '5'\n",
        "s = s + 15\n",
        "print(s)"
      ],
      "metadata": {
        "colab": {
          "base_uri": "https://localhost:8080/",
          "height": 280
        },
        "id": "X8fNjvrgD7np",
        "outputId": "95886179-e316-40c5-c317-f08e5e33d06d"
      },
      "execution_count": 7,
      "outputs": [
        {
          "output_type": "error",
          "ename": "TypeError",
          "evalue": "can only concatenate str (not \"int\") to str",
          "traceback": [
            "\u001b[0;31m---------------------------------------------------------------------------\u001b[0m",
            "\u001b[0;31mTypeError\u001b[0m                                 Traceback (most recent call last)",
            "\u001b[0;32m/tmp/ipython-input-3518118972.py\u001b[0m in \u001b[0;36m<cell line: 0>\u001b[0;34m()\u001b[0m\n\u001b[1;32m      1\u001b[0m \u001b[0;31m#Ví Dụ 2.1.2\u001b[0m\u001b[0;34m\u001b[0m\u001b[0;34m\u001b[0m\u001b[0m\n\u001b[1;32m      2\u001b[0m \u001b[0ms\u001b[0m \u001b[0;34m=\u001b[0m \u001b[0;34m'5'\u001b[0m\u001b[0;34m\u001b[0m\u001b[0;34m\u001b[0m\u001b[0m\n\u001b[0;32m----> 3\u001b[0;31m \u001b[0ms\u001b[0m \u001b[0;34m=\u001b[0m \u001b[0ms\u001b[0m \u001b[0;34m+\u001b[0m \u001b[0;36m15\u001b[0m\u001b[0;34m\u001b[0m\u001b[0;34m\u001b[0m\u001b[0m\n\u001b[0m\u001b[1;32m      4\u001b[0m \u001b[0mprint\u001b[0m\u001b[0;34m(\u001b[0m\u001b[0ms\u001b[0m\u001b[0;34m)\u001b[0m\u001b[0;34m\u001b[0m\u001b[0;34m\u001b[0m\u001b[0m\n",
            "\u001b[0;31mTypeError\u001b[0m: can only concatenate str (not \"int\") to str"
          ]
        }
      ]
    },
    {
      "cell_type": "code",
      "source": [
        "#Ví Dụ 2.1.2\n",
        "s = '5'\n",
        "s = int(s) + 15\n",
        "print(s)"
      ],
      "metadata": {
        "colab": {
          "base_uri": "https://localhost:8080/"
        },
        "id": "OSOX6YxOEAu6",
        "outputId": "eaecbba5-5970-4912-e83c-9cecb3d32236"
      },
      "execution_count": 8,
      "outputs": [
        {
          "output_type": "stream",
          "name": "stdout",
          "text": [
            "20\n"
          ]
        }
      ]
    },
    {
      "cell_type": "code",
      "source": [
        "#Ví Dụ 2.1.3\n",
        "# Hàm int() biến đổi số thực, chuỗi thành số nguyên\n",
        "print(int(3.14))\n",
        "print(int(3.9999))\n",
        "print(int(3.0))       # Không làm tròn tới số nguyên gần nhất\n",
        "print(int(-3.9999))\n",
        "print(int('12345'))\n",
        "\n",
        "# Hàm float() biến đổi số nguyên, chuỗi thành số thực\n",
        "print(float(17))\n",
        "print(float('123.45'))\n",
        "\n",
        "# Hàm str() biến đổi đối số của nó thành chuỗi\n",
        "print(str(17))\n",
        "print(str('123.45'))"
      ],
      "metadata": {
        "colab": {
          "base_uri": "https://localhost:8080/"
        },
        "id": "cojwJAm9Etqt",
        "outputId": "ad31abc2-88ae-4f9a-d17e-5c2d3a5cca9a"
      },
      "execution_count": 9,
      "outputs": [
        {
          "output_type": "stream",
          "name": "stdout",
          "text": [
            "3\n",
            "3\n",
            "3\n",
            "-3\n",
            "12345\n",
            "17.0\n",
            "123.45\n",
            "17\n",
            "123.45\n"
          ]
        }
      ]
    },
    {
      "cell_type": "code",
      "source": [
        "#Ví dụ 2.1.6\n",
        "# Đặt tên biến là x\n",
        "x = 10\n",
        "\n",
        "# Đặt tên biến là y\n",
        "y = 22.5\n",
        "\n",
        "# Đặt tên biến là hoten\n",
        "hoten = 'Lê Thị Quýt Mơ'\n",
        "\n",
        "# Đặt tên biến là dia_chi\n",
        "dia_chi = '31 Trần Hưng Đạo'\n",
        "\n",
        "# Đặt tên hàm (chương trình con) là tinhTong\n",
        "def tinhTong(a, b):\n",
        "    return a + b\n",
        "\n",
        "# In thử các giá trị ra màn hình\n",
        "print(x)\n",
        "print(y)\n",
        "print(hoten)\n",
        "print(dia_chi)\n",
        "print(tinhTong(x, y))"
      ],
      "metadata": {
        "colab": {
          "base_uri": "https://localhost:8080/"
        },
        "id": "UfAZHxnLFSpQ",
        "outputId": "4cd20912-2b22-4fd6-a518-198190563bc2"
      },
      "execution_count": 10,
      "outputs": [
        {
          "output_type": "stream",
          "name": "stdout",
          "text": [
            "10\n",
            "22.5\n",
            "Lê Thị Quýt Mơ\n",
            "31 Trần Hưng Đạo\n",
            "32.5\n"
          ]
        }
      ]
    },
    {
      "cell_type": "code",
      "source": [
        "#Ví Dụ 2.2.1\n",
        "x = 'Chào mừng đến với ngôn ngữ lập trình Python'\n",
        "print(x)"
      ],
      "metadata": {
        "colab": {
          "base_uri": "https://localhost:8080/"
        },
        "id": "44AblBuFF80H",
        "outputId": "24f3aa86-6f9a-4013-d8ba-d2be59cd3c8e"
      },
      "execution_count": 11,
      "outputs": [
        {
          "output_type": "stream",
          "name": "stdout",
          "text": [
            "Chào mừng đến với ngôn ngữ lập trình Python\n"
          ]
        }
      ]
    },
    {
      "cell_type": "code",
      "source": [
        "#Ví Dụ 2.2.1\n",
        "print('Ngôn ngữ', 'lập trình', 'Python')"
      ],
      "metadata": {
        "colab": {
          "base_uri": "https://localhost:8080/"
        },
        "id": "kFfyi9Y_GFnc",
        "outputId": "fd7702c9-e5ad-4c92-d59c-70379eee53ad"
      },
      "execution_count": 12,
      "outputs": [
        {
          "output_type": "stream",
          "name": "stdout",
          "text": [
            "Ngôn ngữ lập trình Python\n"
          ]
        }
      ]
    },
    {
      "cell_type": "code",
      "source": [
        "#Ví Dụ 2.2.1\n",
        "print('a', 'b', 'c', sep='')     # không có gì giữa các phần tử\n",
        "print('a', 'b', 'c', sep='-')    # dấu -\n",
        "print('a', 'b', 'c', sep='--')   # dấu --\n",
        "print('a', 'b', 'c', sep=',')    # dấu ,"
      ],
      "metadata": {
        "colab": {
          "base_uri": "https://localhost:8080/"
        },
        "id": "8s_Y1uCnHLxf",
        "outputId": "99860970-e77d-441e-8b69-9cbd1bfbe0fa"
      },
      "execution_count": 13,
      "outputs": [
        {
          "output_type": "stream",
          "name": "stdout",
          "text": [
            "abc\n",
            "a-b-c\n",
            "a--b--c\n",
            "a,b,c\n"
          ]
        }
      ]
    },
    {
      "cell_type": "code",
      "source": [
        "#Ví Dụ 2.2.1\n",
        "print('a', end='-')\n",
        "print('b', end='+')\n",
        "print('c', end='\\n')\n",
        "print('Học lập trình')\n",
        "print('Python')"
      ],
      "metadata": {
        "colab": {
          "base_uri": "https://localhost:8080/"
        },
        "id": "2HPxQ88IHVor",
        "outputId": "fd656e16-7fe1-4497-d698-52834469accb"
      },
      "execution_count": 14,
      "outputs": [
        {
          "output_type": "stream",
          "name": "stdout",
          "text": [
            "a-b+c\n",
            "Học lập trình\n",
            "Python\n"
          ]
        }
      ]
    },
    {
      "cell_type": "code",
      "source": [
        "#Ví Dụ 2.2.2\n",
        "a = int(input('Nhập số a: '))\n",
        "b = int(input('Nhập số b: '))\n",
        "print('Tổng a + b =', a + b)"
      ],
      "metadata": {
        "colab": {
          "base_uri": "https://localhost:8080/"
        },
        "id": "VGbBHH7wHocM",
        "outputId": "d6652544-7f96-4dec-84d3-f98286a7cda2"
      },
      "execution_count": 15,
      "outputs": [
        {
          "output_type": "stream",
          "name": "stdout",
          "text": [
            "Nhập số a: 3\n",
            "Nhập số b: 4\n",
            "Tổng a + b = 7\n"
          ]
        }
      ]
    },
    {
      "cell_type": "code",
      "source": [
        "#Ví Dụ 2.3.1\n",
        "a = 10\n",
        "b = 20\n",
        "\n",
        "if a < b:\n",
        "    print('a =', a)\n",
        "    print('b =', b)\n",
        "    print('a nhỏ hơn b')\n",
        "\n",
        "print('Tổng của a và b là', a + b)"
      ],
      "metadata": {
        "colab": {
          "base_uri": "https://localhost:8080/"
        },
        "id": "C16fgEZ6H7lK",
        "outputId": "5e888bb2-a08d-4cc6-c5fd-92ad975a3c92"
      },
      "execution_count": 16,
      "outputs": [
        {
          "output_type": "stream",
          "name": "stdout",
          "text": [
            "a = 10\n",
            "b = 20\n",
            "a nhỏ hơn b\n",
            "Tổng của a và b là 30\n"
          ]
        }
      ]
    },
    {
      "cell_type": "code",
      "source": [
        "#Ví Dụ 2.3.2\n",
        "a = 10\n",
        "b = 20\n",
        "\n",
        "if a < b:\n",
        "    print('a =', a)\n",
        "    print('b =', b)\n",
        "    print('a nhỏ hơn b')\n",
        "else:\n",
        "    print('a =', a)\n",
        "    print('b =', b)\n",
        "    print('a lớn hơn b')\n",
        "\n",
        "print('Tổng của a và b là', a + b)"
      ],
      "metadata": {
        "colab": {
          "base_uri": "https://localhost:8080/"
        },
        "id": "L2YhWgGiH_0l",
        "outputId": "20cbc21f-a88f-4eed-88ba-f85dcdff5393"
      },
      "execution_count": 17,
      "outputs": [
        {
          "output_type": "stream",
          "name": "stdout",
          "text": [
            "a = 10\n",
            "b = 20\n",
            "a nhỏ hơn b\n",
            "Tổng của a và b là 30\n"
          ]
        }
      ]
    },
    {
      "cell_type": "code",
      "source": [
        "#Ví Dụ 2.3.3\n",
        "a = 10\n",
        "b = 10\n",
        "\n",
        "if a < b:\n",
        "    print('a nhỏ hơn b')\n",
        "elif a > b:\n",
        "    print('a lớn hơn b')\n",
        "else:\n",
        "    print('a bằng b')"
      ],
      "metadata": {
        "colab": {
          "base_uri": "https://localhost:8080/"
        },
        "id": "ALiTjRQNIVex",
        "outputId": "b46aef4a-5d96-4ccb-dcb3-627ef19156a7"
      },
      "execution_count": 18,
      "outputs": [
        {
          "output_type": "stream",
          "name": "stdout",
          "text": [
            "a bằng b\n"
          ]
        }
      ]
    },
    {
      "cell_type": "code",
      "source": [
        "#Ví Dụ 2.4.1\n",
        "for c in 'Python':\n",
        "    print(c, end='-')"
      ],
      "metadata": {
        "colab": {
          "base_uri": "https://localhost:8080/"
        },
        "id": "_jxAxDq0IntH",
        "outputId": "ede9a992-1d22-461d-fd6d-aa4edfd15a2e"
      },
      "execution_count": 19,
      "outputs": [
        {
          "output_type": "stream",
          "name": "stdout",
          "text": [
            "P-y-t-h-o-n-"
          ]
        }
      ]
    },
    {
      "cell_type": "code",
      "source": [
        "#Ví Dụ 2.4.1\n",
        "\n",
        "n = int(input('Nhập số n: '))\n",
        "s = 0\n",
        "\n",
        "for i in range(1, n):\n",
        "    if n % i == 0:\n",
        "        s = s + i\n",
        "\n",
        "if s == n:\n",
        "    print(n, 'là số hoàn hảo')\n",
        "else:\n",
        "    print(n, 'không là số hoàn hảo')"
      ],
      "metadata": {
        "colab": {
          "base_uri": "https://localhost:8080/"
        },
        "id": "y-pd9WMpI7g2",
        "outputId": "32fde7fd-380b-46a4-949e-dd0a59bce0eb"
      },
      "execution_count": 21,
      "outputs": [
        {
          "output_type": "stream",
          "name": "stdout",
          "text": [
            "Nhập số n: 2\n",
            "2 không là số hoàn hảo\n"
          ]
        }
      ]
    },
    {
      "cell_type": "code",
      "source": [
        "#Ví Dụ 2.4.1\n",
        "\n",
        "n = int(input('Nhập n: '))\n",
        "\n",
        "for x in range(1, n + 1, 1):\n",
        "    if x % 2 == 0:\n",
        "        continue\n",
        "    print('x =', x, ', là số lẻ')"
      ],
      "metadata": {
        "colab": {
          "base_uri": "https://localhost:8080/"
        },
        "id": "MPqPczKzJSSM",
        "outputId": "ddd1d4b7-e2a1-4440-cc87-73b502a25e61"
      },
      "execution_count": 22,
      "outputs": [
        {
          "output_type": "stream",
          "name": "stdout",
          "text": [
            "Nhập n: 20\n",
            "x = 1 , là số lẻ\n",
            "x = 3 , là số lẻ\n",
            "x = 5 , là số lẻ\n",
            "x = 7 , là số lẻ\n",
            "x = 9 , là số lẻ\n",
            "x = 11 , là số lẻ\n",
            "x = 13 , là số lẻ\n",
            "x = 15 , là số lẻ\n",
            "x = 17 , là số lẻ\n",
            "x = 19 , là số lẻ\n"
          ]
        }
      ]
    },
    {
      "cell_type": "code",
      "source": [
        "#Ví Dụ 2.4.2\n",
        "\n",
        "a = int(input('Nhập số nguyên a: '))\n",
        "b = int(input('Nhập số nguyên b: '))\n",
        "\n",
        "while a != b:\n",
        "    if a > b:\n",
        "        a = a - b\n",
        "    else:\n",
        "        b = b - a\n",
        "\n",
        "print('Ước số chung lớn nhất của a và b là', a)"
      ],
      "metadata": {
        "colab": {
          "base_uri": "https://localhost:8080/"
        },
        "id": "3RsWYowGJiCT",
        "outputId": "9e82e6f6-93b3-46bf-855a-ec7f4c717e82"
      },
      "execution_count": 23,
      "outputs": [
        {
          "output_type": "stream",
          "name": "stdout",
          "text": [
            "Nhập số nguyên a: 3\n",
            "Nhập số nguyên b: 2\n",
            "Ước số chung lớn nhất của a và b là 1\n"
          ]
        }
      ]
    },
    {
      "cell_type": "code",
      "source": [
        "#Ví Dụ 2.4.2\n",
        "\n",
        "n = int(input('Nhập số n: '))\n",
        "i = 1\n",
        "\n",
        "while True:\n",
        "    if i > n:\n",
        "        break\n",
        "    print(i)\n",
        "    i = i + 1"
      ],
      "metadata": {
        "colab": {
          "base_uri": "https://localhost:8080/"
        },
        "id": "pPpalo2JJukZ",
        "outputId": "d1d6b697-4263-48b8-b711-643ffb2d37f4"
      },
      "execution_count": 24,
      "outputs": [
        {
          "output_type": "stream",
          "name": "stdout",
          "text": [
            "Nhập số n: 3\n",
            "1\n",
            "2\n",
            "3\n"
          ]
        }
      ]
    },
    {
      "cell_type": "code",
      "source": [
        "#Ví Dụ 2.4.2\n",
        "\n",
        "a = float(input('Nhập số a: '))\n",
        "n = 1\n",
        "\n",
        "while True:\n",
        "    if (1 / n) < a:\n",
        "        break        # Nếu tìm thấy n thỏa mãn điều kiện thì thoát khỏi vòng lặp\n",
        "    n = n + 1\n",
        "\n",
        "print('Số n cần tìm là:', n)"
      ],
      "metadata": {
        "colab": {
          "base_uri": "https://localhost:8080/"
        },
        "id": "GRosjzQQKG_4",
        "outputId": "3615e850-2db6-4980-e372-fabae264fce5"
      },
      "execution_count": 26,
      "outputs": [
        {
          "output_type": "stream",
          "name": "stdout",
          "text": [
            "Nhập số a: 3\n",
            "Số n cần tìm là: 1\n"
          ]
        }
      ]
    },
    {
      "cell_type": "code",
      "source": [
        "#Ví Dụ 2.4.3\n",
        "# Chương trình minh họa sử dụng lệnh break\n",
        "# Duyệt qua tất cả các phần tử trong chuỗi 'ngôn ngữ lập trình Python'\n",
        "\n",
        "for i in 'ngôn ngữ lập trình Python':\n",
        "    print(i)            # Hiển thị ký tự ra màn hình\n",
        "    if (i == 'g'):      # Kiểm tra xem ký tự đọc được có bằng 'g'?\n",
        "        break           # Nếu đúng, thoát ra ngoài vòng lặp ngay\n",
        "print('Kết thúc!')"
      ],
      "metadata": {
        "colab": {
          "base_uri": "https://localhost:8080/"
        },
        "id": "yKk-LDRMKfp3",
        "outputId": "5abdd8e7-0449-4ce7-9273-25de9798d12a"
      },
      "execution_count": 25,
      "outputs": [
        {
          "output_type": "stream",
          "name": "stdout",
          "text": [
            "n\n",
            "g\n",
            "Kết thúc!\n"
          ]
        }
      ]
    },
    {
      "cell_type": "code",
      "source": [
        "#Ví Dụ 2.4.3\n",
        "# Chương trình minh họa sử dụng lệnh continue\n",
        "# Khai báo và khởi tạo biến nguyên a bằng 19\n",
        "a = 19\n",
        "\n",
        "while (a > 0):        # Khi biến a còn lớn hơn 0 thì thực hiện lặp\n",
        "    a = a - 1         # Giảm a đi 1 đơn vị\n",
        "    if (a % 5) == 0:   # Nếu a chia hết cho 5\n",
        "        continue       # Bỏ qua các lệnh tiếp theo, quay lại vòng lặp\n",
        "    print('Giá trị biến hiện tại là:', a)\n",
        "\n",
        "print('Kết thúc...')"
      ],
      "metadata": {
        "colab": {
          "base_uri": "https://localhost:8080/"
        },
        "id": "7TV0jrEEK3I7",
        "outputId": "829abf0d-5376-42f1-98ef-52773d2c8fac"
      },
      "execution_count": 27,
      "outputs": [
        {
          "output_type": "stream",
          "name": "stdout",
          "text": [
            "Giá trị biến hiện tại là: 18\n",
            "Giá trị biến hiện tại là: 17\n",
            "Giá trị biến hiện tại là: 16\n",
            "Giá trị biến hiện tại là: 14\n",
            "Giá trị biến hiện tại là: 13\n",
            "Giá trị biến hiện tại là: 12\n",
            "Giá trị biến hiện tại là: 11\n",
            "Giá trị biến hiện tại là: 9\n",
            "Giá trị biến hiện tại là: 8\n",
            "Giá trị biến hiện tại là: 7\n",
            "Giá trị biến hiện tại là: 6\n",
            "Giá trị biến hiện tại là: 4\n",
            "Giá trị biến hiện tại là: 3\n",
            "Giá trị biến hiện tại là: 2\n",
            "Giá trị biến hiện tại là: 1\n",
            "Kết thúc...\n"
          ]
        }
      ]
    },
    {
      "cell_type": "code",
      "source": [
        "#Ví Dụ 2.5.2\n",
        "\n",
        "a = int(input('Nhập a: '))\n",
        "b = int(input('Nhập b: '))\n",
        "\n",
        "def TinhTong(a, b):\n",
        "    return a + b\n",
        "\n",
        "tong = TinhTong(a, b)\n",
        "print(tong)"
      ],
      "metadata": {
        "colab": {
          "base_uri": "https://localhost:8080/"
        },
        "id": "NcL4rNreLG8q",
        "outputId": "045cf17a-fe79-427c-b318-d16041a88693"
      },
      "execution_count": 28,
      "outputs": [
        {
          "output_type": "stream",
          "name": "stdout",
          "text": [
            "Nhập a: 10\n",
            "Nhập b: 30\n",
            "40\n"
          ]
        }
      ]
    },
    {
      "cell_type": "code",
      "source": [
        "#Ví Dụ 2.5.2\n",
        "# Hàm xét tốt nghiệp của một học sinh\n",
        "def xep_loai(diem_cua_hoc_sinh, diem_chuan=5.0):\n",
        "    if diem_cua_hoc_sinh >= diem_chuan:\n",
        "        return 'Tốt nghiệp'\n",
        "    else:\n",
        "        return 'Chưa tốt nghiệp'\n",
        "\n",
        "# Gọi hàm - có thể chỉ truyền 1 tham số (sử dụng điểm chuẩn mặc định)\n",
        "print(xep_loai(6.5))      # Kết quả: Tốt nghiệp\n",
        "print(xep_loai(4.0))      # Kết quả: Chưa tốt nghiệp\n",
        "\n",
        "# Gọi hàm - truyền cả điểm chuẩn mới\n",
        "print(xep_loai(4.0, 4.0)) # Kết quả: Tốt nghiệp"
      ],
      "metadata": {
        "colab": {
          "base_uri": "https://localhost:8080/"
        },
        "id": "P6QD073zLm9o",
        "outputId": "c9f39f66-804f-42eb-b407-761a085c62c7"
      },
      "execution_count": 30,
      "outputs": [
        {
          "output_type": "stream",
          "name": "stdout",
          "text": [
            "Tốt nghiệp\n",
            "Chưa tốt nghiệp\n",
            "Tốt nghiệp\n"
          ]
        }
      ]
    },
    {
      "cell_type": "code",
      "source": [
        "#Ví Dụ 2.5.2\n",
        "def printme(str):\n",
        "    print(str)\n",
        "    return\n",
        "\n",
        "printme(str = 'Hello Python')"
      ],
      "metadata": {
        "colab": {
          "base_uri": "https://localhost:8080/"
        },
        "id": "kJ1oyiwVMTrw",
        "outputId": "2bdc576d-ea9d-495e-81bc-2b05e69dc2c5"
      },
      "execution_count": 31,
      "outputs": [
        {
          "output_type": "stream",
          "name": "stdout",
          "text": [
            "Hello Python\n"
          ]
        }
      ]
    },
    {
      "cell_type": "code",
      "source": [
        "#Ví Dụ 2.5.2\n",
        "def TinhChuViDienTich(dai, rong):\n",
        "    chu_vi = (dai + rong) * 2\n",
        "    dien_tich = dai * rong\n",
        "    return chu_vi, dien_tich\n",
        "\n",
        "# Gọi hàm\n",
        "cv, dt = TinhChuViDienTich(5, 3)\n",
        "print('Chu vi =', cv)\n",
        "print('Diện tích =', dt)"
      ],
      "metadata": {
        "colab": {
          "base_uri": "https://localhost:8080/"
        },
        "id": "5NtJpeGNMlWh",
        "outputId": "8aef1bc2-23b9-419e-bf11-98cb17a3a60c"
      },
      "execution_count": 32,
      "outputs": [
        {
          "output_type": "stream",
          "name": "stdout",
          "text": [
            "Chu vi = 16\n",
            "Diện tích = 15\n"
          ]
        }
      ]
    },
    {
      "cell_type": "code",
      "source": [
        "#Ví Dụ 2.5.3\n",
        "def vi_du():\n",
        "    x = 'Biến cục bộ'\n",
        "\n",
        "# Gọi hàm\n",
        "vi_du()\n",
        "\n",
        "# Thử in x bên ngoài hàm\n",
        "print(x)   # Sẽ báo lỗi vì x không tồn tại bên ngoài hàm"
      ],
      "metadata": {
        "colab": {
          "base_uri": "https://localhost:8080/"
        },
        "id": "srJRgQJ1M7ex",
        "outputId": "fe23ff38-c80f-4cfe-ac03-0f5f9fc02dee"
      },
      "execution_count": 35,
      "outputs": [
        {
          "output_type": "stream",
          "name": "stdout",
          "text": [
            "20\n"
          ]
        }
      ]
    },
    {
      "cell_type": "code",
      "source": [
        "#Ví Dụ 2.5.3\n",
        "x = 'Biến toàn cục'\n",
        "\n",
        "def vi_du():\n",
        "    global x\n",
        "    print('Sử dụng x trong hàm vi_du():', x)\n",
        "\n",
        "# Gọi hàm\n",
        "vi_du()\n",
        "\n",
        "# In x bên ngoài hàm\n",
        "print('Sử dụng x ngoài hàm vi_du():', x)"
      ],
      "metadata": {
        "colab": {
          "base_uri": "https://localhost:8080/"
        },
        "id": "FR9RJippNa7D",
        "outputId": "d0689143-d308-4acb-eed5-1fa272cb5747"
      },
      "execution_count": 36,
      "outputs": [
        {
          "output_type": "stream",
          "name": "stdout",
          "text": [
            "Sử dụng x trong hàm vi_du(): Biến toàn cục\n",
            "Sử dụng x ngoài hàm vi_du(): Biến toàn cục\n"
          ]
        }
      ]
    },
    {
      "cell_type": "code",
      "source": [
        "#Ví Dụ 2.5.4\n",
        "binh_phuong = lambda x: x * x\n",
        "\n",
        "# Gọi hàm\n",
        "print(binh_phuong(2))   # Kết quả: 4"
      ],
      "metadata": {
        "colab": {
          "base_uri": "https://localhost:8080/"
        },
        "id": "AYq4hFm9N1ZZ",
        "outputId": "538587b7-4a63-45aa-b4ff-f846e879b26a"
      },
      "execution_count": 37,
      "outputs": [
        {
          "output_type": "stream",
          "name": "stdout",
          "text": [
            "4\n"
          ]
        }
      ]
    },
    {
      "cell_type": "code",
      "source": [
        "#Ví Dụ 2.6\n",
        "# Ban đầu gán x bằng số nguyên\n",
        "x = 5\n",
        "print(x)   # 5\n",
        "\n",
        "# Gán x bằng chuỗi\n",
        "x = 'Python'\n",
        "print(x)   # Python\n",
        "\n",
        "# Gán y tham chiếu tới x\n",
        "y = x\n",
        "print(y)   # Python\n",
        "\n",
        "# Thay đổi giá trị của y không ảnh hưởng x cũ\n",
        "y = 3\n",
        "print(y)   # 3\n",
        "print(x)   # Python"
      ],
      "metadata": {
        "colab": {
          "base_uri": "https://localhost:8080/"
        },
        "id": "rdQ_U523OHWa",
        "outputId": "e907b6ad-03c3-4ca1-d9c4-2ef48118bd22"
      },
      "execution_count": 38,
      "outputs": [
        {
          "output_type": "stream",
          "name": "stdout",
          "text": [
            "5\n",
            "Python\n",
            "Python\n",
            "3\n",
            "Python\n"
          ]
        }
      ]
    },
    {
      "cell_type": "code",
      "source": [
        "#Ví Dụ 2.6\n",
        "# Định nghĩa hàm bar\n",
        "def bar(a):\n",
        "    a = a - 1\n",
        "    return a\n",
        "\n",
        "# Định nghĩa hàm foo\n",
        "def foo(a):\n",
        "    a = a * a\n",
        "    b = bar(a)\n",
        "    return b\n",
        "\n",
        "# Hàm main\n",
        "def main():\n",
        "    x = 2\n",
        "    y = foo(x)\n",
        "    print('x = ', x)\n",
        "    print('y = ', y)\n",
        "\n",
        "# Gọi hàm main\n",
        "main()"
      ],
      "metadata": {
        "colab": {
          "base_uri": "https://localhost:8080/"
        },
        "id": "rCxOD8uzOPEc",
        "outputId": "ee8e8036-9b2d-4675-b430-1afdc690660d"
      },
      "execution_count": 39,
      "outputs": [
        {
          "output_type": "stream",
          "name": "stdout",
          "text": [
            "x =  2\n",
            "y =  3\n"
          ]
        }
      ]
    }
  ]
}